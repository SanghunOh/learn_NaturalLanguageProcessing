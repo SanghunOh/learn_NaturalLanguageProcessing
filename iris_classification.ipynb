{
  "nbformat": 4,
  "nbformat_minor": 0,
  "metadata": {
    "colab": {
      "name": "iris_classification.ipynb",
      "provenance": [],
      "authorship_tag": "ABX9TyNDO1GsEujuBGZQ1UQ2VNPf",
      "include_colab_link": true
    },
    "kernelspec": {
      "name": "python3",
      "display_name": "Python 3"
    },
    "language_info": {
      "name": "python"
    }
  },
  "cells": [
    {
      "cell_type": "markdown",
      "metadata": {
        "id": "view-in-github",
        "colab_type": "text"
      },
      "source": [
        "<a href=\"https://colab.research.google.com/github/SanghunOh/test_deeplearning/blob/main/iris_classification.ipynb\" target=\"_parent\"><img src=\"https://colab.research.google.com/assets/colab-badge.svg\" alt=\"Open In Colab\"/></a>"
      ]
    },
    {
      "cell_type": "code",
      "metadata": {
        "id": "oaO78yUl-02E"
      },
      "source": [
        "from sklearn import datasets"
      ],
      "execution_count": 1,
      "outputs": []
    },
    {
      "cell_type": "code",
      "metadata": {
        "id": "WYsGFuD__X00"
      },
      "source": [
        "iris = datasets.load_iris()\n",
        "iris"
      ],
      "execution_count": null,
      "outputs": []
    },
    {
      "cell_type": "code",
      "metadata": {
        "colab": {
          "base_uri": "https://localhost:8080/"
        },
        "id": "njTGsBbJ_wMr",
        "outputId": "795e02a5-e45f-4d32-9d98-abf17ac23c75"
      },
      "source": [
        "import pandas as pd\n",
        "df_iris = pd.DataFrame(iris.data)\n",
        "df_iris.info()"
      ],
      "execution_count": 8,
      "outputs": [
        {
          "output_type": "stream",
          "text": [
            "<class 'pandas.core.frame.DataFrame'>\n",
            "RangeIndex: 150 entries, 0 to 149\n",
            "Data columns (total 4 columns):\n",
            " #   Column  Non-Null Count  Dtype  \n",
            "---  ------  --------------  -----  \n",
            " 0   0       150 non-null    float64\n",
            " 1   1       150 non-null    float64\n",
            " 2   2       150 non-null    float64\n",
            " 3   3       150 non-null    float64\n",
            "dtypes: float64(4)\n",
            "memory usage: 4.8 KB\n"
          ],
          "name": "stdout"
        }
      ]
    },
    {
      "cell_type": "code",
      "metadata": {
        "id": "jB8_o8a0ARJr"
      },
      "source": [
        "import sqlite3\n",
        "connect = sqlite3.connect('./db.sqlite3')\n",
        "df_iris.to_sql('iris_resource', connect, if_exists='append', index=False)"
      ],
      "execution_count": 9,
      "outputs": []
    },
    {
      "cell_type": "code",
      "metadata": {
        "id": "vF6TOFu4CVSS"
      },
      "source": [
        "df_load = pd.read_sql_query('select * from iris_resource', connect)\n",
        "df_load.head(4)"
      ],
      "execution_count": null,
      "outputs": []
    },
    {
      "cell_type": "code",
      "metadata": {
        "colab": {
          "base_uri": "https://localhost:8080/"
        },
        "id": "rNF02bOIDBMZ",
        "outputId": "61edba77-3ca3-4db1-9357-fa217a3142b9"
      },
      "source": [
        "x_data = df_load.to_numpy()\n",
        "x_data.shape"
      ],
      "execution_count": 11,
      "outputs": [
        {
          "output_type": "execute_result",
          "data": {
            "text/plain": [
              "(150, 4)"
            ]
          },
          "metadata": {
            "tags": []
          },
          "execution_count": 11
        }
      ]
    },
    {
      "cell_type": "code",
      "metadata": {
        "id": "nnouJy_eVsF-"
      },
      "source": [
        "import numpy as np"
      ],
      "execution_count": 15,
      "outputs": []
    },
    {
      "cell_type": "code",
      "metadata": {
        "colab": {
          "base_uri": "https://localhost:8080/"
        },
        "id": "Ub4Bei6iDj_a",
        "outputId": "6cb0001d-95de-4e61-8c6c-f6bcc8c00136"
      },
      "source": [
        "y_data = iris.target\n",
        "y_data, np.unique(y_data)"
      ],
      "execution_count": 16,
      "outputs": [
        {
          "output_type": "execute_result",
          "data": {
            "text/plain": [
              "(array([0, 0, 0, 0, 0, 0, 0, 0, 0, 0, 0, 0, 0, 0, 0, 0, 0, 0, 0, 0, 0, 0,\n",
              "        0, 0, 0, 0, 0, 0, 0, 0, 0, 0, 0, 0, 0, 0, 0, 0, 0, 0, 0, 0, 0, 0,\n",
              "        0, 0, 0, 0, 0, 0, 1, 1, 1, 1, 1, 1, 1, 1, 1, 1, 1, 1, 1, 1, 1, 1,\n",
              "        1, 1, 1, 1, 1, 1, 1, 1, 1, 1, 1, 1, 1, 1, 1, 1, 1, 1, 1, 1, 1, 1,\n",
              "        1, 1, 1, 1, 1, 1, 1, 1, 1, 1, 1, 1, 2, 2, 2, 2, 2, 2, 2, 2, 2, 2,\n",
              "        2, 2, 2, 2, 2, 2, 2, 2, 2, 2, 2, 2, 2, 2, 2, 2, 2, 2, 2, 2, 2, 2,\n",
              "        2, 2, 2, 2, 2, 2, 2, 2, 2, 2, 2, 2, 2, 2, 2, 2, 2, 2]),\n",
              " array([0, 1, 2]))"
            ]
          },
          "metadata": {
            "tags": []
          },
          "execution_count": 16
        }
      ]
    },
    {
      "cell_type": "code",
      "metadata": {
        "id": "f3qUFGMeDuAy"
      },
      "source": [
        "import tensorflow as tf"
      ],
      "execution_count": 13,
      "outputs": []
    },
    {
      "cell_type": "code",
      "metadata": {
        "colab": {
          "base_uri": "https://localhost:8080/"
        },
        "id": "rg6Nm5C8ED9C",
        "outputId": "b383b6ee-c51d-481d-c231-81c959727057"
      },
      "source": [
        "model = tf.keras.Sequential()\n",
        "\n",
        "model.add(tf.keras.Input(shape=(4,))) # input layer\n",
        "\n",
        "model.add(tf.keras.layers.Dense(64, activation='relu')) # hidden layer\n",
        "model.add(tf.keras.layers.Dense(24, activation='relu')) # hidden layer\n",
        "\n",
        "model.add(tf.keras.layers.Dense(3, activation='softmax')) # output layer\n",
        "\n",
        "\n",
        "model.compile(optimizer='adam', loss='mse', metrics=['acc'], ) # gadget"
      ],
      "execution_count": 20,
      "outputs": [
        {
          "output_type": "stream",
          "text": [
            "WARNING:tensorflow:Please add `keras.layers.InputLayer` instead of `keras.Input` to Sequential model. `keras.Input` is intended to be used by Functional model.\n"
          ],
          "name": "stdout"
        }
      ]
    },
    {
      "cell_type": "code",
      "metadata": {
        "id": "8NnRlDo3YhbO"
      },
      "source": [
        "model.summary()"
      ],
      "execution_count": null,
      "outputs": []
    },
    {
      "cell_type": "code",
      "metadata": {
        "colab": {
          "base_uri": "https://localhost:8080/"
        },
        "id": "FnWQSqI1EYyr",
        "outputId": "2a140573-8189-4668-f799-17e0107732cd"
      },
      "source": [
        "model.fit(x_data, y_data, epochs=50, validation_split=0.3) # 학습"
      ],
      "execution_count": 21,
      "outputs": [
        {
          "output_type": "stream",
          "text": [
            "Epoch 1/50\n",
            "4/4 [==============================] - 1s 48ms/step - loss: 0.4068 - acc: 0.4762 - val_loss: 2.7883 - val_acc: 0.5778\n",
            "Epoch 2/50\n",
            "4/4 [==============================] - 0s 13ms/step - loss: 0.4002 - acc: 0.3619 - val_loss: 2.7834 - val_acc: 1.0000\n",
            "Epoch 3/50\n",
            "4/4 [==============================] - 0s 7ms/step - loss: 0.3989 - acc: 0.5238 - val_loss: 2.7800 - val_acc: 1.0000\n",
            "Epoch 4/50\n",
            "4/4 [==============================] - 0s 7ms/step - loss: 0.3991 - acc: 0.5238 - val_loss: 2.7793 - val_acc: 1.0000\n",
            "Epoch 5/50\n",
            "4/4 [==============================] - 0s 7ms/step - loss: 0.3987 - acc: 0.5238 - val_loss: 2.7790 - val_acc: 1.0000\n",
            "Epoch 6/50\n",
            "4/4 [==============================] - 0s 7ms/step - loss: 0.3980 - acc: 0.5238 - val_loss: 2.7791 - val_acc: 0.8444\n",
            "Epoch 7/50\n",
            "4/4 [==============================] - 0s 9ms/step - loss: 0.3975 - acc: 0.6190 - val_loss: 2.7790 - val_acc: 0.3778\n",
            "Epoch 8/50\n",
            "4/4 [==============================] - 0s 8ms/step - loss: 0.3974 - acc: 0.7714 - val_loss: 2.7787 - val_acc: 0.0000e+00\n",
            "Epoch 9/50\n",
            "4/4 [==============================] - 0s 7ms/step - loss: 0.3972 - acc: 0.9048 - val_loss: 2.7783 - val_acc: 0.0000e+00\n",
            "Epoch 10/50\n",
            "4/4 [==============================] - 0s 6ms/step - loss: 0.3971 - acc: 0.9048 - val_loss: 2.7780 - val_acc: 0.0000e+00\n",
            "Epoch 11/50\n",
            "4/4 [==============================] - 0s 7ms/step - loss: 0.3970 - acc: 0.7905 - val_loss: 2.7779 - val_acc: 0.1556\n",
            "Epoch 12/50\n",
            "4/4 [==============================] - 0s 7ms/step - loss: 0.3969 - acc: 0.5333 - val_loss: 2.7779 - val_acc: 0.2222\n",
            "Epoch 13/50\n",
            "4/4 [==============================] - 0s 7ms/step - loss: 0.3969 - acc: 0.3905 - val_loss: 2.7779 - val_acc: 0.2000\n",
            "Epoch 14/50\n",
            "4/4 [==============================] - 0s 8ms/step - loss: 0.3969 - acc: 0.3238 - val_loss: 2.7780 - val_acc: 0.1111\n",
            "Epoch 15/50\n",
            "4/4 [==============================] - 0s 8ms/step - loss: 0.3969 - acc: 0.3619 - val_loss: 2.7780 - val_acc: 0.0000e+00\n",
            "Epoch 16/50\n",
            "4/4 [==============================] - 0s 8ms/step - loss: 0.3969 - acc: 0.3524 - val_loss: 2.7780 - val_acc: 0.0000e+00\n",
            "Epoch 17/50\n",
            "4/4 [==============================] - 0s 7ms/step - loss: 0.3969 - acc: 0.3143 - val_loss: 2.7780 - val_acc: 0.0222\n",
            "Epoch 18/50\n",
            "4/4 [==============================] - 0s 8ms/step - loss: 0.3969 - acc: 0.2190 - val_loss: 2.7780 - val_acc: 0.0889\n",
            "Epoch 19/50\n",
            "4/4 [==============================] - 0s 7ms/step - loss: 0.3969 - acc: 0.1810 - val_loss: 2.7780 - val_acc: 0.1111\n",
            "Epoch 20/50\n",
            "4/4 [==============================] - 0s 6ms/step - loss: 0.3969 - acc: 0.1714 - val_loss: 2.7780 - val_acc: 0.1111\n",
            "Epoch 21/50\n",
            "4/4 [==============================] - 0s 6ms/step - loss: 0.3969 - acc: 0.2000 - val_loss: 2.7780 - val_acc: 0.1111\n",
            "Epoch 22/50\n",
            "4/4 [==============================] - 0s 8ms/step - loss: 0.3969 - acc: 0.2095 - val_loss: 2.7779 - val_acc: 0.1111\n",
            "Epoch 23/50\n",
            "4/4 [==============================] - 0s 7ms/step - loss: 0.3969 - acc: 0.2381 - val_loss: 2.7780 - val_acc: 0.0889\n",
            "Epoch 24/50\n",
            "4/4 [==============================] - 0s 6ms/step - loss: 0.3969 - acc: 0.2667 - val_loss: 2.7779 - val_acc: 0.0889\n",
            "Epoch 25/50\n",
            "4/4 [==============================] - 0s 6ms/step - loss: 0.3969 - acc: 0.2762 - val_loss: 2.7779 - val_acc: 0.1111\n",
            "Epoch 26/50\n",
            "4/4 [==============================] - 0s 8ms/step - loss: 0.3969 - acc: 0.2667 - val_loss: 2.7779 - val_acc: 0.1111\n",
            "Epoch 27/50\n",
            "4/4 [==============================] - 0s 7ms/step - loss: 0.3969 - acc: 0.2762 - val_loss: 2.7779 - val_acc: 0.0889\n",
            "Epoch 28/50\n",
            "4/4 [==============================] - 0s 7ms/step - loss: 0.3969 - acc: 0.2952 - val_loss: 2.7779 - val_acc: 0.0889\n",
            "Epoch 29/50\n",
            "4/4 [==============================] - 0s 7ms/step - loss: 0.3969 - acc: 0.2762 - val_loss: 2.7779 - val_acc: 0.1111\n",
            "Epoch 30/50\n",
            "4/4 [==============================] - 0s 7ms/step - loss: 0.3969 - acc: 0.2952 - val_loss: 2.7779 - val_acc: 0.0667\n",
            "Epoch 31/50\n",
            "4/4 [==============================] - 0s 8ms/step - loss: 0.3969 - acc: 0.3048 - val_loss: 2.7779 - val_acc: 0.0889\n",
            "Epoch 32/50\n",
            "4/4 [==============================] - 0s 7ms/step - loss: 0.3969 - acc: 0.2952 - val_loss: 2.7780 - val_acc: 0.0222\n",
            "Epoch 33/50\n",
            "4/4 [==============================] - 0s 7ms/step - loss: 0.3969 - acc: 0.2952 - val_loss: 2.7779 - val_acc: 0.1111\n",
            "Epoch 34/50\n",
            "4/4 [==============================] - 0s 7ms/step - loss: 0.3969 - acc: 0.2381 - val_loss: 2.7779 - val_acc: 0.1333\n",
            "Epoch 35/50\n",
            "4/4 [==============================] - 0s 8ms/step - loss: 0.3969 - acc: 0.2571 - val_loss: 2.7779 - val_acc: 0.0889\n",
            "Epoch 36/50\n",
            "4/4 [==============================] - 0s 7ms/step - loss: 0.3969 - acc: 0.2762 - val_loss: 2.7779 - val_acc: 0.1111\n",
            "Epoch 37/50\n",
            "4/4 [==============================] - 0s 7ms/step - loss: 0.3969 - acc: 0.2667 - val_loss: 2.7779 - val_acc: 0.1111\n",
            "Epoch 38/50\n",
            "4/4 [==============================] - 0s 8ms/step - loss: 0.3969 - acc: 0.2762 - val_loss: 2.7779 - val_acc: 0.1111\n",
            "Epoch 39/50\n",
            "4/4 [==============================] - 0s 8ms/step - loss: 0.3969 - acc: 0.2762 - val_loss: 2.7779 - val_acc: 0.1111\n",
            "Epoch 40/50\n",
            "4/4 [==============================] - 0s 8ms/step - loss: 0.3969 - acc: 0.2857 - val_loss: 2.7779 - val_acc: 0.0667\n",
            "Epoch 41/50\n",
            "4/4 [==============================] - 0s 8ms/step - loss: 0.3969 - acc: 0.2952 - val_loss: 2.7779 - val_acc: 0.0222\n",
            "Epoch 42/50\n",
            "4/4 [==============================] - 0s 8ms/step - loss: 0.3969 - acc: 0.2857 - val_loss: 2.7779 - val_acc: 0.1111\n",
            "Epoch 43/50\n",
            "4/4 [==============================] - 0s 7ms/step - loss: 0.3969 - acc: 0.2571 - val_loss: 2.7779 - val_acc: 0.1111\n",
            "Epoch 44/50\n",
            "4/4 [==============================] - 0s 8ms/step - loss: 0.3969 - acc: 0.2857 - val_loss: 2.7779 - val_acc: 0.0444\n",
            "Epoch 45/50\n",
            "4/4 [==============================] - 0s 7ms/step - loss: 0.3969 - acc: 0.2857 - val_loss: 2.7779 - val_acc: 0.0889\n",
            "Epoch 46/50\n",
            "4/4 [==============================] - 0s 7ms/step - loss: 0.3969 - acc: 0.2571 - val_loss: 2.7779 - val_acc: 0.0889\n",
            "Epoch 47/50\n",
            "4/4 [==============================] - 0s 10ms/step - loss: 0.3969 - acc: 0.2667 - val_loss: 2.7779 - val_acc: 0.0222\n",
            "Epoch 48/50\n",
            "4/4 [==============================] - 0s 10ms/step - loss: 0.3969 - acc: 0.2762 - val_loss: 2.7779 - val_acc: 0.0444\n",
            "Epoch 49/50\n",
            "4/4 [==============================] - 0s 8ms/step - loss: 0.3969 - acc: 0.2762 - val_loss: 2.7779 - val_acc: 0.1333\n",
            "Epoch 50/50\n",
            "4/4 [==============================] - 0s 7ms/step - loss: 0.3969 - acc: 0.2381 - val_loss: 2.7779 - val_acc: 0.0889\n"
          ],
          "name": "stdout"
        },
        {
          "output_type": "execute_result",
          "data": {
            "text/plain": [
              "<tensorflow.python.keras.callbacks.History at 0x7f616516cfd0>"
            ]
          },
          "metadata": {
            "tags": []
          },
          "execution_count": 21
        }
      ]
    },
    {
      "cell_type": "markdown",
      "metadata": {
        "id": "5oWJr_VxZw7s"
      },
      "source": [
        "# Evaluation"
      ]
    },
    {
      "cell_type": "code",
      "metadata": {
        "colab": {
          "base_uri": "https://localhost:8080/"
        },
        "id": "sy_SMblJZ1f7",
        "outputId": "e4ae39d1-1864-4d91-b310-0ca202faa72e"
      },
      "source": [
        "model.evaluate(x_data, y_data)"
      ],
      "execution_count": 22,
      "outputs": [
        {
          "output_type": "stream",
          "text": [
            "5/5 [==============================] - 0s 2ms/step - loss: 1.1112 - acc: 0.2133\n"
          ],
          "name": "stdout"
        },
        {
          "output_type": "execute_result",
          "data": {
            "text/plain": [
              "[1.1111743450164795, 0.2133333384990692]"
            ]
          },
          "metadata": {
            "tags": []
          },
          "execution_count": 22
        }
      ]
    },
    {
      "cell_type": "markdown",
      "metadata": {
        "id": "jQt2Km-HEW0y"
      },
      "source": [
        "# service"
      ]
    },
    {
      "cell_type": "code",
      "metadata": {
        "colab": {
          "base_uri": "https://localhost:8080/"
        },
        "id": "icF1zRtjaThU",
        "outputId": "4b797b5c-36cc-4b8f-dbea-5f70d44e3eb9"
      },
      "source": [
        "x_data[25], y_data[25]"
      ],
      "execution_count": 24,
      "outputs": [
        {
          "output_type": "execute_result",
          "data": {
            "text/plain": [
              "(array([5. , 3. , 1.6, 0.2]), 0)"
            ]
          },
          "metadata": {
            "tags": []
          },
          "execution_count": 24
        }
      ]
    },
    {
      "cell_type": "code",
      "metadata": {
        "colab": {
          "base_uri": "https://localhost:8080/"
        },
        "id": "8H6VtSdLEjaB",
        "outputId": "6ac9da0f-2264-4c10-84f5-84f560f0f86d"
      },
      "source": [
        "pred = model.predict([[5. , 3. , 1.6, 0.2]])\n",
        "pred"
      ],
      "execution_count": 27,
      "outputs": [
        {
          "output_type": "execute_result",
          "data": {
            "text/plain": [
              "array([[0.33113125, 0.33784267, 0.33102605]], dtype=float32)"
            ]
          },
          "metadata": {
            "tags": []
          },
          "execution_count": 27
        }
      ]
    },
    {
      "cell_type": "code",
      "metadata": {
        "colab": {
          "base_uri": "https://localhost:8080/"
        },
        "id": "r_CYE-ywahDj",
        "outputId": "0a721a81-fa32-4213-ebe7-fc2427b34904"
      },
      "source": [
        "import numpy as np\n",
        "np.argmax(pred)"
      ],
      "execution_count": 28,
      "outputs": [
        {
          "output_type": "execute_result",
          "data": {
            "text/plain": [
              "1"
            ]
          },
          "metadata": {
            "tags": []
          },
          "execution_count": 28
        }
      ]
    },
    {
      "cell_type": "code",
      "metadata": {
        "id": "rGwlew74a-rZ"
      },
      "source": [
        ""
      ],
      "execution_count": null,
      "outputs": []
    }
  ]
}