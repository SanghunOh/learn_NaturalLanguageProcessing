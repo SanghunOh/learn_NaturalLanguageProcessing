{
  "nbformat": 4,
  "nbformat_minor": 0,
  "metadata": {
    "colab": {
      "name": "boston_housingwithregression.ipynb",
      "provenance": [],
      "authorship_tag": "ABX9TyM6/NkqFECGpmFWnCl2cFu8",
      "include_colab_link": true
    },
    "kernelspec": {
      "name": "python3",
      "display_name": "Python 3"
    },
    "language_info": {
      "name": "python"
    }
  },
  "cells": [
    {
      "cell_type": "markdown",
      "metadata": {
        "id": "view-in-github",
        "colab_type": "text"
      },
      "source": [
        "<a href=\"https://colab.research.google.com/github/SanghunOh/test_deeplearning/blob/main/boston_housingwithregression.ipynb\" target=\"_parent\"><img src=\"https://colab.research.google.com/assets/colab-badge.svg\" alt=\"Open In Colab\"/></a>"
      ]
    },
    {
      "cell_type": "code",
      "metadata": {
        "id": "eM8BQWs_YNNK"
      },
      "source": [
        "import tensorflow as tf\n",
        "from tensorflow.keras.datasets.boston_housing import load_data"
      ],
      "execution_count": 2,
      "outputs": []
    },
    {
      "cell_type": "markdown",
      "metadata": {
        "id": "uGv-ipTi0-3L"
      },
      "source": [
        "# Dataset"
      ]
    },
    {
      "cell_type": "code",
      "metadata": {
        "colab": {
          "base_uri": "https://localhost:8080/"
        },
        "id": "-Cqk4cDDbQAM",
        "outputId": "963388ad-6762-44da-eed6-45857744584b"
      },
      "source": [
        "(x_train, y_train), (x_test, y_test) = load_data(path='boston_housing.npz', test_split=0.2, seed=113)\n",
        "x_train.shape, y_train.shape, x_test.shape, y_test.shape, type(x_train)"
      ],
      "execution_count": 3,
      "outputs": [
        {
          "output_type": "stream",
          "text": [
            "Downloading data from https://storage.googleapis.com/tensorflow/tf-keras-datasets/boston_housing.npz\n",
            "57344/57026 [==============================] - 0s 0us/step\n"
          ],
          "name": "stdout"
        },
        {
          "output_type": "execute_result",
          "data": {
            "text/plain": [
              "((404, 13), (404,), (102, 13), (102,))"
            ]
          },
          "metadata": {
            "tags": []
          },
          "execution_count": 3
        }
      ]
    },
    {
      "cell_type": "code",
      "metadata": {
        "id": "URR5J-CK1DGy"
      },
      "source": [
        "import pandas as pd"
      ],
      "execution_count": 36,
      "outputs": []
    },
    {
      "cell_type": "code",
      "metadata": {
        "id": "nmRXWS5_1TTV"
      },
      "source": [
        "df = pd.DataFrame(x_train)\n",
        "df.info()"
      ],
      "execution_count": null,
      "outputs": []
    },
    {
      "cell_type": "code",
      "metadata": {
        "id": "JjLJQji-1gcu"
      },
      "source": [
        "df.describe()"
      ],
      "execution_count": null,
      "outputs": []
    },
    {
      "cell_type": "code",
      "metadata": {
        "colab": {
          "base_uri": "https://localhost:8080/"
        },
        "id": "2uWiX2X42iUt",
        "outputId": "d370edce-f666-47d8-dea0-ad2b14d61ba0"
      },
      "source": [
        "from sklearn.preprocessing import StandardScaler\n",
        "scaler = StandardScaler()\n",
        "scaler.fit(x_train)"
      ],
      "execution_count": 39,
      "outputs": [
        {
          "output_type": "execute_result",
          "data": {
            "text/plain": [
              "StandardScaler(copy=True, with_mean=True, with_std=True)"
            ]
          },
          "metadata": {
            "tags": []
          },
          "execution_count": 39
        }
      ]
    },
    {
      "cell_type": "code",
      "metadata": {
        "colab": {
          "base_uri": "https://localhost:8080/"
        },
        "id": "iUwHSqNH3c0X",
        "outputId": "93ad8e90-f553-4b79-f511-36527c1b03bc"
      },
      "source": [
        "x_train = scaler.transform(x_train)\n",
        "x_test = scaler.transform(x_test)\n",
        "x_train.shape, x_test.shape"
      ],
      "execution_count": 41,
      "outputs": [
        {
          "output_type": "execute_result",
          "data": {
            "text/plain": [
              "((404, 13), (102, 13))"
            ]
          },
          "metadata": {
            "tags": []
          },
          "execution_count": 41
        }
      ]
    },
    {
      "cell_type": "code",
      "metadata": {
        "colab": {
          "base_uri": "https://localhost:8080/",
          "height": 315
        },
        "id": "i3BXO0i539M8",
        "outputId": "06ed681f-87bf-4a83-f03f-ad11458359d7"
      },
      "source": [
        "df = pd.DataFrame(x_train)\n",
        "df.describe()"
      ],
      "execution_count": 42,
      "outputs": [
        {
          "output_type": "execute_result",
          "data": {
            "text/html": [
              "<div>\n",
              "<style scoped>\n",
              "    .dataframe tbody tr th:only-of-type {\n",
              "        vertical-align: middle;\n",
              "    }\n",
              "\n",
              "    .dataframe tbody tr th {\n",
              "        vertical-align: top;\n",
              "    }\n",
              "\n",
              "    .dataframe thead th {\n",
              "        text-align: right;\n",
              "    }\n",
              "</style>\n",
              "<table border=\"1\" class=\"dataframe\">\n",
              "  <thead>\n",
              "    <tr style=\"text-align: right;\">\n",
              "      <th></th>\n",
              "      <th>0</th>\n",
              "      <th>1</th>\n",
              "      <th>2</th>\n",
              "      <th>3</th>\n",
              "      <th>4</th>\n",
              "      <th>5</th>\n",
              "      <th>6</th>\n",
              "      <th>7</th>\n",
              "      <th>8</th>\n",
              "      <th>9</th>\n",
              "      <th>10</th>\n",
              "      <th>11</th>\n",
              "      <th>12</th>\n",
              "    </tr>\n",
              "  </thead>\n",
              "  <tbody>\n",
              "    <tr>\n",
              "      <th>count</th>\n",
              "      <td>404.000000</td>\n",
              "      <td>404.000000</td>\n",
              "      <td>404.000000</td>\n",
              "      <td>404.000000</td>\n",
              "      <td>404.000000</td>\n",
              "      <td>404.000000</td>\n",
              "      <td>404.000000</td>\n",
              "      <td>404.000000</td>\n",
              "      <td>404.000000</td>\n",
              "      <td>404.000000</td>\n",
              "      <td>404.000000</td>\n",
              "      <td>404.000000</td>\n",
              "      <td>404.000000</td>\n",
              "    </tr>\n",
              "    <tr>\n",
              "      <th>mean</th>\n",
              "      <td>-0.405785</td>\n",
              "      <td>-0.483615</td>\n",
              "      <td>-1.632315</td>\n",
              "      <td>-0.256833</td>\n",
              "      <td>-4.757714</td>\n",
              "      <td>-8.840465</td>\n",
              "      <td>-2.472962</td>\n",
              "      <td>-1.844587</td>\n",
              "      <td>-1.086676</td>\n",
              "      <td>-2.442692</td>\n",
              "      <td>-8.407131</td>\n",
              "      <td>-3.774506</td>\n",
              "      <td>-1.758431</td>\n",
              "    </tr>\n",
              "    <tr>\n",
              "      <th>std</th>\n",
              "      <td>0.108485</td>\n",
              "      <td>0.042178</td>\n",
              "      <td>0.147179</td>\n",
              "      <td>4.155563</td>\n",
              "      <td>8.546806</td>\n",
              "      <td>1.412368</td>\n",
              "      <td>0.035879</td>\n",
              "      <td>0.493781</td>\n",
              "      <td>0.115249</td>\n",
              "      <td>0.006025</td>\n",
              "      <td>0.455594</td>\n",
              "      <td>0.010652</td>\n",
              "      <td>0.138187</td>\n",
              "    </tr>\n",
              "    <tr>\n",
              "      <th>min</th>\n",
              "      <td>-0.449678</td>\n",
              "      <td>-0.503988</td>\n",
              "      <td>-1.862320</td>\n",
              "      <td>-1.322796</td>\n",
              "      <td>-17.316788</td>\n",
              "      <td>-14.225151</td>\n",
              "      <td>-2.557856</td>\n",
              "      <td>-2.479545</td>\n",
              "      <td>-1.198510</td>\n",
              "      <td>-2.450584</td>\n",
              "      <td>-9.623769</td>\n",
              "      <td>-3.814626</td>\n",
              "      <td>-1.968168</td>\n",
              "    </tr>\n",
              "    <tr>\n",
              "      <th>25%</th>\n",
              "      <td>-0.448796</td>\n",
              "      <td>-0.503988</td>\n",
              "      <td>-1.761411</td>\n",
              "      <td>-1.322796</td>\n",
              "      <td>-12.361827</td>\n",
              "      <td>-9.621144</td>\n",
              "      <td>-2.503185</td>\n",
              "      <td>-2.249097</td>\n",
              "      <td>-1.158762</td>\n",
              "      <td>-2.447288</td>\n",
              "      <td>-8.666152</td>\n",
              "      <td>-3.772255</td>\n",
              "      <td>-1.869879</td>\n",
              "    </tr>\n",
              "    <tr>\n",
              "      <th>50%</th>\n",
              "      <td>-0.446596</td>\n",
              "      <td>-0.503988</td>\n",
              "      <td>-1.662878</td>\n",
              "      <td>-1.322796</td>\n",
              "      <td>-6.168125</td>\n",
              "      <td>-8.976932</td>\n",
              "      <td>-2.460777</td>\n",
              "      <td>-1.990024</td>\n",
              "      <td>-1.145512</td>\n",
              "      <td>-2.445441</td>\n",
              "      <td>-8.277929</td>\n",
              "      <td>-3.770378</td>\n",
              "      <td>-1.784066</td>\n",
              "    </tr>\n",
              "    <tr>\n",
              "      <th>75%</th>\n",
              "      <td>-0.406611</td>\n",
              "      <td>-0.481806</td>\n",
              "      <td>-1.481154</td>\n",
              "      <td>-1.322796</td>\n",
              "      <td>0.608514</td>\n",
              "      <td>-8.160100</td>\n",
              "      <td>-2.440745</td>\n",
              "      <td>-1.509501</td>\n",
              "      <td>-0.893770</td>\n",
              "      <td>-2.433272</td>\n",
              "      <td>-8.050171</td>\n",
              "      <td>-3.769823</td>\n",
              "      <td>-1.675539</td>\n",
              "    </tr>\n",
              "    <tr>\n",
              "      <th>max</th>\n",
              "      <td>0.594817</td>\n",
              "      <td>-0.326528</td>\n",
              "      <td>-1.272853</td>\n",
              "      <td>15.903167</td>\n",
              "      <td>18.096614</td>\n",
              "      <td>-3.949586</td>\n",
              "      <td>-2.433169</td>\n",
              "      <td>-0.149364</td>\n",
              "      <td>-0.893770</td>\n",
              "      <td>-2.431643</td>\n",
              "      <td>-7.677477</td>\n",
              "      <td>-3.769739</td>\n",
              "      <td>-1.277858</td>\n",
              "    </tr>\n",
              "  </tbody>\n",
              "</table>\n",
              "</div>"
            ],
            "text/plain": [
              "               0           1           2   ...          10          11          12\n",
              "count  404.000000  404.000000  404.000000  ...  404.000000  404.000000  404.000000\n",
              "mean    -0.405785   -0.483615   -1.632315  ...   -8.407131   -3.774506   -1.758431\n",
              "std      0.108485    0.042178    0.147179  ...    0.455594    0.010652    0.138187\n",
              "min     -0.449678   -0.503988   -1.862320  ...   -9.623769   -3.814626   -1.968168\n",
              "25%     -0.448796   -0.503988   -1.761411  ...   -8.666152   -3.772255   -1.869879\n",
              "50%     -0.446596   -0.503988   -1.662878  ...   -8.277929   -3.770378   -1.784066\n",
              "75%     -0.406611   -0.481806   -1.481154  ...   -8.050171   -3.769823   -1.675539\n",
              "max      0.594817   -0.326528   -1.272853  ...   -7.677477   -3.769739   -1.277858\n",
              "\n",
              "[8 rows x 13 columns]"
            ]
          },
          "metadata": {
            "tags": []
          },
          "execution_count": 42
        }
      ]
    },
    {
      "cell_type": "markdown",
      "metadata": {
        "id": "k6NhDvgEx6Cz"
      },
      "source": [
        "# Model and fit"
      ]
    },
    {
      "cell_type": "code",
      "metadata": {
        "id": "pxoNG9Xhd1hf"
      },
      "source": [
        "model = tf.keras.models.Sequential()"
      ],
      "execution_count": 45,
      "outputs": []
    },
    {
      "cell_type": "code",
      "metadata": {
        "colab": {
          "base_uri": "https://localhost:8080/"
        },
        "id": "uLryjb5RePfU",
        "outputId": "2af5267d-8a04-4770-d363-182bcb363980"
      },
      "source": [
        "model.add(tf.keras.Input(shape=(13))) # input layer\n",
        "\n",
        "model.add(tf.keras.layers.Dense(64, activation='sigmoid')) # 기능 layer\n",
        "model.add(tf.keras.layers.Dense(64, activation='sigmoid')) # hidden layer\n",
        "model.add(tf.keras.layers.Dense(64, activation='sigmoid')) # hidden layer\n",
        "\n",
        "model.add(tf.keras.layers.Dense(1,)) # output layer \n",
        "\n",
        "model.compile(optimizer='sgd', loss='mse', metrics=['mae'])"
      ],
      "execution_count": 46,
      "outputs": [
        {
          "output_type": "stream",
          "text": [
            "WARNING:tensorflow:Please add `keras.layers.InputLayer` instead of `keras.Input` to Sequential model. `keras.Input` is intended to be used by Functional model.\n"
          ],
          "name": "stdout"
        }
      ]
    },
    {
      "cell_type": "code",
      "metadata": {
        "id": "CLsvxFRSqi9E"
      },
      "source": [
        "tf.keras.utils.plot_model(model, show_shapes=True)"
      ],
      "execution_count": null,
      "outputs": []
    },
    {
      "cell_type": "code",
      "metadata": {
        "colab": {
          "base_uri": "https://localhost:8080/"
        },
        "id": "fIMp1BWfrDso",
        "outputId": "187f16bb-64b5-4886-ea16-729614f971a1"
      },
      "source": [
        "model.summary()"
      ],
      "execution_count": 47,
      "outputs": [
        {
          "output_type": "stream",
          "text": [
            "Model: \"sequential_4\"\n",
            "_________________________________________________________________\n",
            "Layer (type)                 Output Shape              Param #   \n",
            "=================================================================\n",
            "dense_22 (Dense)             (None, 64)                896       \n",
            "_________________________________________________________________\n",
            "dense_23 (Dense)             (None, 64)                4160      \n",
            "_________________________________________________________________\n",
            "dense_24 (Dense)             (None, 64)                4160      \n",
            "_________________________________________________________________\n",
            "dense_25 (Dense)             (None, 1)                 65        \n",
            "=================================================================\n",
            "Total params: 9,281\n",
            "Trainable params: 9,281\n",
            "Non-trainable params: 0\n",
            "_________________________________________________________________\n"
          ],
          "name": "stdout"
        }
      ]
    },
    {
      "cell_type": "code",
      "metadata": {
        "colab": {
          "base_uri": "https://localhost:8080/"
        },
        "id": "5cXBgRbMrNNi",
        "outputId": "3f662a00-9fea-4836-fc47-f516e58fd624"
      },
      "source": [
        "model.fit(x_train, y_train, epochs=100)"
      ],
      "execution_count": 48,
      "outputs": [
        {
          "output_type": "stream",
          "text": [
            "Epoch 1/100\n",
            "13/13 [==============================] - 0s 2ms/step - loss: 139.4134 - mae: 8.1831\n",
            "Epoch 2/100\n",
            "13/13 [==============================] - 0s 2ms/step - loss: 83.9163 - mae: 6.5889\n",
            "Epoch 3/100\n",
            "13/13 [==============================] - 0s 1ms/step - loss: 83.3702 - mae: 6.6434\n",
            "Epoch 4/100\n",
            "13/13 [==============================] - 0s 2ms/step - loss: 72.3336 - mae: 6.0453\n",
            "Epoch 5/100\n",
            "13/13 [==============================] - 0s 2ms/step - loss: 65.9534 - mae: 5.7376\n",
            "Epoch 6/100\n",
            "13/13 [==============================] - 0s 2ms/step - loss: 62.3611 - mae: 5.6563\n",
            "Epoch 7/100\n",
            "13/13 [==============================] - 0s 2ms/step - loss: 55.4935 - mae: 5.4581\n",
            "Epoch 8/100\n",
            "13/13 [==============================] - 0s 1ms/step - loss: 63.8705 - mae: 5.9111\n",
            "Epoch 9/100\n",
            "13/13 [==============================] - 0s 2ms/step - loss: 56.4666 - mae: 5.3077\n",
            "Epoch 10/100\n",
            "13/13 [==============================] - 0s 2ms/step - loss: 58.3690 - mae: 5.5626\n",
            "Epoch 11/100\n",
            "13/13 [==============================] - 0s 2ms/step - loss: 56.8308 - mae: 5.5730\n",
            "Epoch 12/100\n",
            "13/13 [==============================] - 0s 2ms/step - loss: 39.9152 - mae: 4.4498\n",
            "Epoch 13/100\n",
            "13/13 [==============================] - 0s 2ms/step - loss: 60.4038 - mae: 5.6122\n",
            "Epoch 14/100\n",
            "13/13 [==============================] - 0s 2ms/step - loss: 47.4667 - mae: 5.1491\n",
            "Epoch 15/100\n",
            "13/13 [==============================] - 0s 2ms/step - loss: 45.5318 - mae: 4.8517\n",
            "Epoch 16/100\n",
            "13/13 [==============================] - 0s 2ms/step - loss: 40.5225 - mae: 4.8052\n",
            "Epoch 17/100\n",
            "13/13 [==============================] - 0s 2ms/step - loss: 43.8914 - mae: 4.7523\n",
            "Epoch 18/100\n",
            "13/13 [==============================] - 0s 2ms/step - loss: 40.7814 - mae: 4.7880\n",
            "Epoch 19/100\n",
            "13/13 [==============================] - 0s 2ms/step - loss: 34.2625 - mae: 4.2473\n",
            "Epoch 20/100\n",
            "13/13 [==============================] - 0s 2ms/step - loss: 37.6589 - mae: 4.5657\n",
            "Epoch 21/100\n",
            "13/13 [==============================] - 0s 2ms/step - loss: 27.9489 - mae: 3.7244\n",
            "Epoch 22/100\n",
            "13/13 [==============================] - 0s 2ms/step - loss: 30.2756 - mae: 3.9511\n",
            "Epoch 23/100\n",
            "13/13 [==============================] - 0s 2ms/step - loss: 25.0252 - mae: 3.5102\n",
            "Epoch 24/100\n",
            "13/13 [==============================] - 0s 2ms/step - loss: 40.5086 - mae: 4.7816\n",
            "Epoch 25/100\n",
            "13/13 [==============================] - 0s 2ms/step - loss: 35.6146 - mae: 4.3453\n",
            "Epoch 26/100\n",
            "13/13 [==============================] - 0s 2ms/step - loss: 28.4159 - mae: 3.9201\n",
            "Epoch 27/100\n",
            "13/13 [==============================] - 0s 2ms/step - loss: 24.7257 - mae: 3.5629\n",
            "Epoch 28/100\n",
            "13/13 [==============================] - 0s 1ms/step - loss: 23.3254 - mae: 3.3793\n",
            "Epoch 29/100\n",
            "13/13 [==============================] - 0s 2ms/step - loss: 25.4285 - mae: 3.6091\n",
            "Epoch 30/100\n",
            "13/13 [==============================] - 0s 2ms/step - loss: 23.6966 - mae: 3.4203\n",
            "Epoch 31/100\n",
            "13/13 [==============================] - 0s 1ms/step - loss: 33.2745 - mae: 4.2073\n",
            "Epoch 32/100\n",
            "13/13 [==============================] - 0s 2ms/step - loss: 32.3349 - mae: 4.1465\n",
            "Epoch 33/100\n",
            "13/13 [==============================] - 0s 2ms/step - loss: 24.1965 - mae: 3.4013\n",
            "Epoch 34/100\n",
            "13/13 [==============================] - 0s 2ms/step - loss: 21.7946 - mae: 3.2017\n",
            "Epoch 35/100\n",
            "13/13 [==============================] - 0s 2ms/step - loss: 26.1680 - mae: 3.6263\n",
            "Epoch 36/100\n",
            "13/13 [==============================] - 0s 2ms/step - loss: 21.0936 - mae: 3.1822\n",
            "Epoch 37/100\n",
            "13/13 [==============================] - 0s 2ms/step - loss: 21.4261 - mae: 3.2603\n",
            "Epoch 38/100\n",
            "13/13 [==============================] - 0s 2ms/step - loss: 20.8799 - mae: 3.1622\n",
            "Epoch 39/100\n",
            "13/13 [==============================] - 0s 2ms/step - loss: 26.5163 - mae: 3.6620\n",
            "Epoch 40/100\n",
            "13/13 [==============================] - 0s 2ms/step - loss: 22.0166 - mae: 3.2740\n",
            "Epoch 41/100\n",
            "13/13 [==============================] - 0s 2ms/step - loss: 20.3510 - mae: 3.1895\n",
            "Epoch 42/100\n",
            "13/13 [==============================] - 0s 2ms/step - loss: 21.1790 - mae: 3.2590\n",
            "Epoch 43/100\n",
            "13/13 [==============================] - 0s 2ms/step - loss: 20.5674 - mae: 3.1997\n",
            "Epoch 44/100\n",
            "13/13 [==============================] - 0s 2ms/step - loss: 19.3714 - mae: 3.0536\n",
            "Epoch 45/100\n",
            "13/13 [==============================] - 0s 2ms/step - loss: 23.5475 - mae: 3.4083\n",
            "Epoch 46/100\n",
            "13/13 [==============================] - 0s 2ms/step - loss: 22.7832 - mae: 3.4102\n",
            "Epoch 47/100\n",
            "13/13 [==============================] - 0s 2ms/step - loss: 20.1253 - mae: 3.1486\n",
            "Epoch 48/100\n",
            "13/13 [==============================] - 0s 2ms/step - loss: 18.8620 - mae: 3.0231\n",
            "Epoch 49/100\n",
            "13/13 [==============================] - 0s 2ms/step - loss: 19.0497 - mae: 3.0535\n",
            "Epoch 50/100\n",
            "13/13 [==============================] - 0s 2ms/step - loss: 22.0984 - mae: 3.3104\n",
            "Epoch 51/100\n",
            "13/13 [==============================] - 0s 2ms/step - loss: 19.8905 - mae: 3.1556\n",
            "Epoch 52/100\n",
            "13/13 [==============================] - 0s 2ms/step - loss: 20.1335 - mae: 3.2129\n",
            "Epoch 53/100\n",
            "13/13 [==============================] - 0s 2ms/step - loss: 19.4442 - mae: 3.1635\n",
            "Epoch 54/100\n",
            "13/13 [==============================] - 0s 2ms/step - loss: 17.3785 - mae: 2.8757\n",
            "Epoch 55/100\n",
            "13/13 [==============================] - 0s 2ms/step - loss: 18.5487 - mae: 3.1033\n",
            "Epoch 56/100\n",
            "13/13 [==============================] - 0s 2ms/step - loss: 19.8197 - mae: 3.1695\n",
            "Epoch 57/100\n",
            "13/13 [==============================] - 0s 2ms/step - loss: 21.2584 - mae: 3.2214\n",
            "Epoch 58/100\n",
            "13/13 [==============================] - 0s 2ms/step - loss: 19.4924 - mae: 3.1307\n",
            "Epoch 59/100\n",
            "13/13 [==============================] - 0s 2ms/step - loss: 17.6330 - mae: 2.9032\n",
            "Epoch 60/100\n",
            "13/13 [==============================] - 0s 2ms/step - loss: 16.9664 - mae: 2.8162\n",
            "Epoch 61/100\n",
            "13/13 [==============================] - 0s 2ms/step - loss: 17.7471 - mae: 2.9120\n",
            "Epoch 62/100\n",
            "13/13 [==============================] - 0s 2ms/step - loss: 21.8219 - mae: 3.3038\n",
            "Epoch 63/100\n",
            "13/13 [==============================] - 0s 2ms/step - loss: 17.9744 - mae: 2.9227\n",
            "Epoch 64/100\n",
            "13/13 [==============================] - 0s 2ms/step - loss: 18.1469 - mae: 3.0155\n",
            "Epoch 65/100\n",
            "13/13 [==============================] - 0s 2ms/step - loss: 20.7816 - mae: 3.2088\n",
            "Epoch 66/100\n",
            "13/13 [==============================] - 0s 2ms/step - loss: 16.9187 - mae: 2.8309\n",
            "Epoch 67/100\n",
            "13/13 [==============================] - 0s 2ms/step - loss: 19.1190 - mae: 3.1336\n",
            "Epoch 68/100\n",
            "13/13 [==============================] - 0s 2ms/step - loss: 16.7895 - mae: 2.8151\n",
            "Epoch 69/100\n",
            "13/13 [==============================] - 0s 2ms/step - loss: 17.1631 - mae: 2.8136\n",
            "Epoch 70/100\n",
            "13/13 [==============================] - 0s 2ms/step - loss: 18.3718 - mae: 2.9430\n",
            "Epoch 71/100\n",
            "13/13 [==============================] - 0s 2ms/step - loss: 19.5251 - mae: 3.0879\n",
            "Epoch 72/100\n",
            "13/13 [==============================] - 0s 2ms/step - loss: 16.7020 - mae: 2.8281\n",
            "Epoch 73/100\n",
            "13/13 [==============================] - 0s 2ms/step - loss: 20.9131 - mae: 3.2704\n",
            "Epoch 74/100\n",
            "13/13 [==============================] - 0s 2ms/step - loss: 17.0136 - mae: 2.8650\n",
            "Epoch 75/100\n",
            "13/13 [==============================] - 0s 2ms/step - loss: 16.9999 - mae: 2.8185\n",
            "Epoch 76/100\n",
            "13/13 [==============================] - 0s 2ms/step - loss: 17.1443 - mae: 2.8360\n",
            "Epoch 77/100\n",
            "13/13 [==============================] - 0s 2ms/step - loss: 15.9192 - mae: 2.6830\n",
            "Epoch 78/100\n",
            "13/13 [==============================] - 0s 2ms/step - loss: 17.3042 - mae: 2.8390\n",
            "Epoch 79/100\n",
            "13/13 [==============================] - 0s 2ms/step - loss: 20.7440 - mae: 3.2169\n",
            "Epoch 80/100\n",
            "13/13 [==============================] - 0s 2ms/step - loss: 17.4552 - mae: 2.8435\n",
            "Epoch 81/100\n",
            "13/13 [==============================] - 0s 2ms/step - loss: 15.9267 - mae: 2.6900\n",
            "Epoch 82/100\n",
            "13/13 [==============================] - 0s 2ms/step - loss: 17.5635 - mae: 2.8846\n",
            "Epoch 83/100\n",
            "13/13 [==============================] - 0s 2ms/step - loss: 18.6220 - mae: 2.9911\n",
            "Epoch 84/100\n",
            "13/13 [==============================] - 0s 2ms/step - loss: 18.1752 - mae: 2.9718\n",
            "Epoch 85/100\n",
            "13/13 [==============================] - 0s 3ms/step - loss: 16.6628 - mae: 2.8128\n",
            "Epoch 86/100\n",
            "13/13 [==============================] - 0s 2ms/step - loss: 16.2463 - mae: 2.7606\n",
            "Epoch 87/100\n",
            "13/13 [==============================] - 0s 2ms/step - loss: 18.7561 - mae: 2.9900\n",
            "Epoch 88/100\n",
            "13/13 [==============================] - 0s 2ms/step - loss: 17.9551 - mae: 2.8752\n",
            "Epoch 89/100\n",
            "13/13 [==============================] - 0s 2ms/step - loss: 18.8275 - mae: 3.0133\n",
            "Epoch 90/100\n",
            "13/13 [==============================] - 0s 2ms/step - loss: 17.2979 - mae: 2.8514\n",
            "Epoch 91/100\n",
            "13/13 [==============================] - 0s 2ms/step - loss: 16.5214 - mae: 2.7601\n",
            "Epoch 92/100\n",
            "13/13 [==============================] - 0s 2ms/step - loss: 17.4096 - mae: 2.9120\n",
            "Epoch 93/100\n",
            "13/13 [==============================] - 0s 2ms/step - loss: 16.0566 - mae: 2.7099\n",
            "Epoch 94/100\n",
            "13/13 [==============================] - 0s 2ms/step - loss: 15.9662 - mae: 2.6781\n",
            "Epoch 95/100\n",
            "13/13 [==============================] - 0s 2ms/step - loss: 16.4373 - mae: 2.7527\n",
            "Epoch 96/100\n",
            "13/13 [==============================] - 0s 2ms/step - loss: 16.7944 - mae: 2.8022\n",
            "Epoch 97/100\n",
            "13/13 [==============================] - 0s 2ms/step - loss: 16.3384 - mae: 2.8333\n",
            "Epoch 98/100\n",
            "13/13 [==============================] - 0s 2ms/step - loss: 17.6181 - mae: 2.9117\n",
            "Epoch 99/100\n",
            "13/13 [==============================] - 0s 2ms/step - loss: 16.2838 - mae: 2.6784\n",
            "Epoch 100/100\n",
            "13/13 [==============================] - 0s 2ms/step - loss: 19.4133 - mae: 3.1705\n"
          ],
          "name": "stdout"
        },
        {
          "output_type": "execute_result",
          "data": {
            "text/plain": [
              "<tensorflow.python.keras.callbacks.History at 0x7efe4ae42790>"
            ]
          },
          "metadata": {
            "tags": []
          },
          "execution_count": 48
        }
      ]
    },
    {
      "cell_type": "markdown",
      "metadata": {
        "id": "vS-07K4EwSXr"
      },
      "source": [
        "# evaluation"
      ]
    },
    {
      "cell_type": "code",
      "metadata": {
        "colab": {
          "base_uri": "https://localhost:8080/"
        },
        "id": "hyygv2-PtkPC",
        "outputId": "6d3a68d9-672d-464b-c29c-a5afd9b9ac62"
      },
      "source": [
        "model.evaluate(x_train, y_train) "
      ],
      "execution_count": 49,
      "outputs": [
        {
          "output_type": "stream",
          "text": [
            "13/13 [==============================] - 0s 2ms/step - loss: 20.2601 - mae: 3.3129\n"
          ],
          "name": "stdout"
        },
        {
          "output_type": "execute_result",
          "data": {
            "text/plain": [
              "[20.26008415222168, 3.312859058380127]"
            ]
          },
          "metadata": {
            "tags": []
          },
          "execution_count": 49
        }
      ]
    },
    {
      "cell_type": "markdown",
      "metadata": {
        "id": "XvIHsILDwfI9"
      },
      "source": [
        "# Service"
      ]
    },
    {
      "cell_type": "code",
      "metadata": {
        "colab": {
          "base_uri": "https://localhost:8080/"
        },
        "id": "gnqENEQBw-Qj",
        "outputId": "779e7fde-4e73-48d7-a127-04c15eb5d04e"
      },
      "source": [
        "x_train[10]"
      ],
      "execution_count": 54,
      "outputs": [
        {
          "output_type": "execute_result",
          "data": {
            "text/plain": [
              "array([-0.33710002, -0.50398828, -1.48115445, -1.32279581,  5.1262729 ,\n",
              "       -8.56801832, -2.43316853, -2.35565036, -0.89377027, -2.43327233,\n",
              "       -8.05017099, -3.77209189, -1.61425073])"
            ]
          },
          "metadata": {
            "tags": []
          },
          "execution_count": 54
        }
      ]
    },
    {
      "cell_type": "code",
      "metadata": {
        "colab": {
          "base_uri": "https://localhost:8080/"
        },
        "id": "M_5Efpj5wb0N",
        "outputId": "bc9b4942-76ff-4dba-f4c8-2ac36b8af2a9"
      },
      "source": [
        "model.predict([[-0.33710002, -0.50398828, -1.48115445, -1.32279581,  5.1262729 ,\n",
        "       -8.56801832, -2.43316853, -2.35565036, -0.89377027, -2.43327233,\n",
        "       -8.05017099, -3.77209189, -1.61425073]])"
      ],
      "execution_count": 55,
      "outputs": [
        {
          "output_type": "execute_result",
          "data": {
            "text/plain": [
              "array([[12.987582]], dtype=float32)"
            ]
          },
          "metadata": {
            "tags": []
          },
          "execution_count": 55
        }
      ]
    },
    {
      "cell_type": "code",
      "metadata": {
        "colab": {
          "base_uri": "https://localhost:8080/"
        },
        "id": "lsCFklIWwpRQ",
        "outputId": "91a053f9-a579-482b-c445-3c7d18c12738"
      },
      "source": [
        "y_train[10]"
      ],
      "execution_count": 56,
      "outputs": [
        {
          "output_type": "execute_result",
          "data": {
            "text/plain": [
              "12.1"
            ]
          },
          "metadata": {
            "tags": []
          },
          "execution_count": 56
        }
      ]
    },
    {
      "cell_type": "code",
      "metadata": {
        "id": "ANHNVqnu5ltI"
      },
      "source": [
        ""
      ],
      "execution_count": null,
      "outputs": []
    }
  ]
}