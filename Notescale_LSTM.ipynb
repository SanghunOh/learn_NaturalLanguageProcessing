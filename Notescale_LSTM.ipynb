{
  "nbformat": 4,
  "nbformat_minor": 0,
  "metadata": {
    "colab": {
      "name": "Notescale_LSTM.ipynb",
      "provenance": [],
      "authorship_tag": "ABX9TyPzZn5J1+1Xpig99boMIRQ8"
    },
    "kernelspec": {
      "name": "python3",
      "display_name": "Python 3"
    },
    "language_info": {
      "name": "python"
    }
  },
  "cells": [
    {
      "cell_type": "code",
      "metadata": {
        "id": "tug-POz8lBrQ"
      },
      "source": [
        "note_seq = ['g8', 'e8', 'e4', 'f8', 'd8', 'd4', 'c8', 'd8', 'e8', 'f8', 'g8', 'g8', 'g4',\n",
        "       'g8', 'e8', 'e8', 'e8', 'f8', 'd8', 'd4', 'c8', 'e8', 'g8', 'g8', 'e8', 'e8', 'e4',\n",
        "       'd8', 'd8', 'd8', 'd8', 'd8', 'e8', 'f4', 'e8', 'e8', 'e8', 'e8', 'e8', 'f8', 'g4',\n",
        "       'g8', 'e8', 'e4', 'f8', 'd8', 'd4', 'c8', 'e8', 'g8', 'g8', 'e8', 'e8', 'e4']"
      ],
      "execution_count": 1,
      "outputs": []
    },
    {
      "cell_type": "code",
      "metadata": {
        "colab": {
          "base_uri": "https://localhost:8080/"
        },
        "id": "7HRduhXuukWT",
        "outputId": "202c909c-6af6-48bf-8dad-57afe5fe5a67"
      },
      "source": [
        "note_seq[0:5]"
      ],
      "execution_count": 58,
      "outputs": [
        {
          "output_type": "execute_result",
          "data": {
            "text/plain": [
              "['g8', 'e8', 'e4', 'f8', 'd8']"
            ]
          },
          "metadata": {
            "tags": []
          },
          "execution_count": 58
        }
      ]
    },
    {
      "cell_type": "code",
      "metadata": {
        "colab": {
          "base_uri": "https://localhost:8080/"
        },
        "id": "cSPhT4mXnwTk",
        "outputId": "108e9cd6-b527-48d5-bcc2-0a7903bc2078"
      },
      "source": [
        "note_seq[0:4], note_seq[1:5], note_seq[2:6]"
      ],
      "execution_count": 2,
      "outputs": [
        {
          "output_type": "execute_result",
          "data": {
            "text/plain": [
              "(['g8', 'e8', 'e4', 'f8'], ['e8', 'e4', 'f8', 'd8'], ['e4', 'f8', 'd8', 'd4'])"
            ]
          },
          "metadata": {
            "tags": []
          },
          "execution_count": 2
        }
      ]
    },
    {
      "cell_type": "code",
      "metadata": {
        "id": "r2HLLLgPlcvs"
      },
      "source": [
        "code2idx = {'c4':0, 'd4':1, 'e4':2, 'f4':3, 'g4':4, 'a4':5, 'b4':6,\n",
        "            'c8':7, 'd8':8, 'e8':9, 'f8':10, 'g8':11, 'a8':12, 'b8':13}"
      ],
      "execution_count": 3,
      "outputs": []
    },
    {
      "cell_type": "code",
      "metadata": {
        "colab": {
          "base_uri": "https://localhost:8080/"
        },
        "id": "bBZOvCQ8mRtM",
        "outputId": "89eb7307-2781-4cfc-fb6e-d73e6b1dcb70"
      },
      "source": [
        "len(note_seq), range(len(note_seq)-4) # [4,8,12,....]"
      ],
      "execution_count": 4,
      "outputs": [
        {
          "output_type": "execute_result",
          "data": {
            "text/plain": [
              "(54, range(0, 50))"
            ]
          },
          "metadata": {
            "tags": []
          },
          "execution_count": 4
        }
      ]
    },
    {
      "cell_type": "code",
      "metadata": {
        "colab": {
          "base_uri": "https://localhost:8080/"
        },
        "id": "CNTQmp-gTx0S",
        "outputId": "e1780bef-8394-49cb-f0f8-97592d854be1"
      },
      "source": [
        "code2idx['g8']"
      ],
      "execution_count": 5,
      "outputs": [
        {
          "output_type": "execute_result",
          "data": {
            "text/plain": [
              "11"
            ]
          },
          "metadata": {
            "tags": []
          },
          "execution_count": 5
        }
      ]
    },
    {
      "cell_type": "code",
      "metadata": {
        "colab": {
          "base_uri": "https://localhost:8080/"
        },
        "id": "CYxffMgKldbF",
        "outputId": "b78203ee-448f-4b85-fc59-9c0541ec507f"
      },
      "source": [
        "dataset = list()\n",
        "for i in range(len(note_seq)-4):\n",
        "  subset = note_seq[i:i+4]\n",
        "  items = list()\n",
        "  # print(subset)\n",
        "  for item in subset:\n",
        "    # print(code2idx[item])\n",
        "    items.append(code2idx[item])\n",
        "  # print(items)\n",
        "  dataset.append(items)\n",
        "\n",
        "print(dataset)"
      ],
      "execution_count": 6,
      "outputs": [
        {
          "output_type": "stream",
          "text": [
            "[[11, 9, 2, 10], [9, 2, 10, 8], [2, 10, 8, 1], [10, 8, 1, 7], [8, 1, 7, 8], [1, 7, 8, 9], [7, 8, 9, 10], [8, 9, 10, 11], [9, 10, 11, 11], [10, 11, 11, 4], [11, 11, 4, 11], [11, 4, 11, 9], [4, 11, 9, 9], [11, 9, 9, 9], [9, 9, 9, 10], [9, 9, 10, 8], [9, 10, 8, 1], [10, 8, 1, 7], [8, 1, 7, 9], [1, 7, 9, 11], [7, 9, 11, 11], [9, 11, 11, 9], [11, 11, 9, 9], [11, 9, 9, 2], [9, 9, 2, 8], [9, 2, 8, 8], [2, 8, 8, 8], [8, 8, 8, 8], [8, 8, 8, 8], [8, 8, 8, 9], [8, 8, 9, 3], [8, 9, 3, 9], [9, 3, 9, 9], [3, 9, 9, 9], [9, 9, 9, 9], [9, 9, 9, 9], [9, 9, 9, 10], [9, 9, 10, 4], [9, 10, 4, 11], [10, 4, 11, 9], [4, 11, 9, 2], [11, 9, 2, 10], [9, 2, 10, 8], [2, 10, 8, 1], [10, 8, 1, 7], [8, 1, 7, 9], [1, 7, 9, 11], [7, 9, 11, 11], [9, 11, 11, 9], [11, 11, 9, 9]]\n"
          ],
          "name": "stdout"
        }
      ]
    },
    {
      "cell_type": "code",
      "metadata": {
        "id": "cphNdRDOVzGK"
      },
      "source": [
        "import numpy as np\n",
        "datasets = np.array(dataset)"
      ],
      "execution_count": 7,
      "outputs": []
    },
    {
      "cell_type": "code",
      "metadata": {
        "id": "dps98d7BowoT",
        "colab": {
          "base_uri": "https://localhost:8080/"
        },
        "outputId": "53aa824c-6d34-42cb-9693-81bc3e21c4a6"
      },
      "source": [
        "x_train = datasets[:,0:3]\n",
        "x_train.shape, #x_train"
      ],
      "execution_count": 8,
      "outputs": [
        {
          "output_type": "execute_result",
          "data": {
            "text/plain": [
              "((50, 3),)"
            ]
          },
          "metadata": {
            "tags": []
          },
          "execution_count": 8
        }
      ]
    },
    {
      "cell_type": "code",
      "metadata": {
        "colab": {
          "base_uri": "https://localhost:8080/"
        },
        "id": "D5xN0ze5Vwkx",
        "outputId": "48d60808-b5af-466c-b4ce-9d2a7ed0c684"
      },
      "source": [
        "y_train = datasets[:,3]\n",
        "y_train.shape, #y_train"
      ],
      "execution_count": 9,
      "outputs": [
        {
          "output_type": "execute_result",
          "data": {
            "text/plain": [
              "((50,),)"
            ]
          },
          "metadata": {
            "tags": []
          },
          "execution_count": 9
        }
      ]
    },
    {
      "cell_type": "code",
      "metadata": {
        "colab": {
          "base_uri": "https://localhost:8080/"
        },
        "id": "4QSQAFqPXK1D",
        "outputId": "619ccc3f-c16c-430b-b1ea-264757ba1782"
      },
      "source": [
        "len(code2idx)"
      ],
      "execution_count": 10,
      "outputs": [
        {
          "output_type": "execute_result",
          "data": {
            "text/plain": [
              "14"
            ]
          },
          "metadata": {
            "tags": []
          },
          "execution_count": 10
        }
      ]
    },
    {
      "cell_type": "code",
      "metadata": {
        "colab": {
          "base_uri": "https://localhost:8080/"
        },
        "id": "EOjJd_9xWJzR",
        "outputId": "53677acc-f8c1-4c7e-de74-e592d0bb6c74"
      },
      "source": [
        "x_train = x_train / 13 # len(code2idx)\n",
        "x_train[3]"
      ],
      "execution_count": 11,
      "outputs": [
        {
          "output_type": "execute_result",
          "data": {
            "text/plain": [
              "array([0.76923077, 0.61538462, 0.07692308])"
            ]
          },
          "metadata": {
            "tags": []
          },
          "execution_count": 11
        }
      ]
    },
    {
      "cell_type": "markdown",
      "metadata": {
        "id": "dEs1o_fTXjEq"
      },
      "source": [
        "# make model"
      ]
    },
    {
      "cell_type": "code",
      "metadata": {
        "id": "NJBNvx5zXb2Y"
      },
      "source": [
        "import tensorflow as tf"
      ],
      "execution_count": 12,
      "outputs": []
    },
    {
      "cell_type": "code",
      "metadata": {
        "colab": {
          "base_uri": "https://localhost:8080/"
        },
        "id": "tmRGxUv4Y-Ny",
        "outputId": "879a6f7f-1932-4ee4-c3d3-54cc8d4c667f"
      },
      "source": [
        "x_train.shape, x_train[2] # --> scale\n"
      ],
      "execution_count": 13,
      "outputs": [
        {
          "output_type": "execute_result",
          "data": {
            "text/plain": [
              "((50, 3), array([0.15384615, 0.76923077, 0.61538462]))"
            ]
          },
          "metadata": {
            "tags": []
          },
          "execution_count": 13
        }
      ]
    },
    {
      "cell_type": "code",
      "metadata": {
        "colab": {
          "base_uri": "https://localhost:8080/"
        },
        "id": "d7bn2aYEd5Lg",
        "outputId": "a377c0fc-29df-4a28-e911-df371de512d3"
      },
      "source": [
        "X_train = np.reshape(x_train, (-1, 3, 1)) # tensor\n",
        "X_train.shape, X_train[2]"
      ],
      "execution_count": 20,
      "outputs": [
        {
          "output_type": "execute_result",
          "data": {
            "text/plain": [
              "((50, 3, 1), array([[0.15384615],\n",
              "        [0.76923077],\n",
              "        [0.61538462]]))"
            ]
          },
          "metadata": {
            "tags": []
          },
          "execution_count": 20
        }
      ]
    },
    {
      "cell_type": "code",
      "metadata": {
        "colab": {
          "base_uri": "https://localhost:8080/"
        },
        "id": "ZqvnsJn7gjwX",
        "outputId": "41f89405-bd02-41bc-9d80-a7a1de65aa81"
      },
      "source": [
        "np.unique(y_train)"
      ],
      "execution_count": 15,
      "outputs": [
        {
          "output_type": "execute_result",
          "data": {
            "text/plain": [
              "array([ 1,  2,  3,  4,  7,  8,  9, 10, 11])"
            ]
          },
          "metadata": {
            "tags": []
          },
          "execution_count": 15
        }
      ]
    },
    {
      "cell_type": "code",
      "metadata": {
        "colab": {
          "base_uri": "https://localhost:8080/"
        },
        "id": "IBydPT2sX0vg",
        "outputId": "bbb89c8a-07ff-4967-f250-6ade9b2d2b86"
      },
      "source": [
        "model = tf.keras.models.Sequential()\n",
        "\n",
        "model.add(tf.keras.Input(shape=(3,1))) # input layer\n",
        "model.add(tf.keras.layers.LSTM(128)) # hidden layer\n",
        "model.add(tf.keras.layers.Dense(13, activation='softmax')) # output layer\n",
        "\n",
        "model.compile(optimizer='adam', loss='sparse_categorical_crossentropy', metrics=['accuracy']) # gadget"
      ],
      "execution_count": 38,
      "outputs": [
        {
          "output_type": "stream",
          "text": [
            "WARNING:tensorflow:Please add `keras.layers.InputLayer` instead of `keras.Input` to Sequential model. `keras.Input` is intended to be used by Functional model.\n"
          ],
          "name": "stdout"
        }
      ]
    },
    {
      "cell_type": "code",
      "metadata": {
        "colab": {
          "base_uri": "https://localhost:8080/"
        },
        "id": "ulvS72vdaJ8A",
        "outputId": "9ea9e6fc-4c97-4878-ebda-b77a3cdb24d4"
      },
      "source": [
        "hist = model.fit(X_train, y_train, epochs=500, batch_size=10) # 50 / 5 = 10"
      ],
      "execution_count": 55,
      "outputs": [
        {
          "output_type": "stream",
          "text": [
            "Epoch 1/500\n",
            "5/5 [==============================] - 0s 5ms/step - loss: 1.2017 - accuracy: 0.5400\n",
            "Epoch 2/500\n",
            "5/5 [==============================] - 0s 5ms/step - loss: 1.1958 - accuracy: 0.5400\n",
            "Epoch 3/500\n",
            "5/5 [==============================] - 0s 6ms/step - loss: 1.2133 - accuracy: 0.5000\n",
            "Epoch 4/500\n",
            "5/5 [==============================] - 0s 6ms/step - loss: 1.2023 - accuracy: 0.5400\n",
            "Epoch 5/500\n",
            "5/5 [==============================] - 0s 6ms/step - loss: 1.1916 - accuracy: 0.5200\n",
            "Epoch 6/500\n",
            "5/5 [==============================] - 0s 6ms/step - loss: 1.2075 - accuracy: 0.5200\n",
            "Epoch 7/500\n",
            "5/5 [==============================] - 0s 5ms/step - loss: 1.2010 - accuracy: 0.5600\n",
            "Epoch 8/500\n",
            "5/5 [==============================] - 0s 5ms/step - loss: 1.1935 - accuracy: 0.5400\n",
            "Epoch 9/500\n",
            "5/5 [==============================] - 0s 6ms/step - loss: 1.1875 - accuracy: 0.5400\n",
            "Epoch 10/500\n",
            "5/5 [==============================] - 0s 5ms/step - loss: 1.1983 - accuracy: 0.5400\n",
            "Epoch 11/500\n",
            "5/5 [==============================] - 0s 5ms/step - loss: 1.1861 - accuracy: 0.5400\n",
            "Epoch 12/500\n",
            "5/5 [==============================] - 0s 5ms/step - loss: 1.1835 - accuracy: 0.5400\n",
            "Epoch 13/500\n",
            "5/5 [==============================] - 0s 5ms/step - loss: 1.1989 - accuracy: 0.5200\n",
            "Epoch 14/500\n",
            "5/5 [==============================] - 0s 6ms/step - loss: 1.1924 - accuracy: 0.5400\n",
            "Epoch 15/500\n",
            "5/5 [==============================] - 0s 7ms/step - loss: 1.1808 - accuracy: 0.5200\n",
            "Epoch 16/500\n",
            "5/5 [==============================] - 0s 6ms/step - loss: 1.1845 - accuracy: 0.5400\n",
            "Epoch 17/500\n",
            "5/5 [==============================] - 0s 6ms/step - loss: 1.1728 - accuracy: 0.5400\n",
            "Epoch 18/500\n",
            "5/5 [==============================] - 0s 6ms/step - loss: 1.1663 - accuracy: 0.5400\n",
            "Epoch 19/500\n",
            "5/5 [==============================] - 0s 6ms/step - loss: 1.1790 - accuracy: 0.5400\n",
            "Epoch 20/500\n",
            "5/5 [==============================] - 0s 6ms/step - loss: 1.1876 - accuracy: 0.5600\n",
            "Epoch 21/500\n",
            "5/5 [==============================] - 0s 6ms/step - loss: 1.1716 - accuracy: 0.5200\n",
            "Epoch 22/500\n",
            "5/5 [==============================] - 0s 6ms/step - loss: 1.1710 - accuracy: 0.5400\n",
            "Epoch 23/500\n",
            "5/5 [==============================] - 0s 6ms/step - loss: 1.1673 - accuracy: 0.5800\n",
            "Epoch 24/500\n",
            "5/5 [==============================] - 0s 6ms/step - loss: 1.1649 - accuracy: 0.5000\n",
            "Epoch 25/500\n",
            "5/5 [==============================] - 0s 6ms/step - loss: 1.1706 - accuracy: 0.5400\n",
            "Epoch 26/500\n",
            "5/5 [==============================] - 0s 8ms/step - loss: 1.1795 - accuracy: 0.5400\n",
            "Epoch 27/500\n",
            "5/5 [==============================] - 0s 6ms/step - loss: 1.1652 - accuracy: 0.5800\n",
            "Epoch 28/500\n",
            "5/5 [==============================] - 0s 6ms/step - loss: 1.1635 - accuracy: 0.5600\n",
            "Epoch 29/500\n",
            "5/5 [==============================] - 0s 6ms/step - loss: 1.1609 - accuracy: 0.5400\n",
            "Epoch 30/500\n",
            "5/5 [==============================] - 0s 6ms/step - loss: 1.1563 - accuracy: 0.6000\n",
            "Epoch 31/500\n",
            "5/5 [==============================] - 0s 6ms/step - loss: 1.1660 - accuracy: 0.5000\n",
            "Epoch 32/500\n",
            "5/5 [==============================] - 0s 5ms/step - loss: 1.1839 - accuracy: 0.5000\n",
            "Epoch 33/500\n",
            "5/5 [==============================] - 0s 7ms/step - loss: 1.1483 - accuracy: 0.5200\n",
            "Epoch 34/500\n",
            "5/5 [==============================] - 0s 7ms/step - loss: 1.1565 - accuracy: 0.5400\n",
            "Epoch 35/500\n",
            "5/5 [==============================] - 0s 6ms/step - loss: 1.1773 - accuracy: 0.5600\n",
            "Epoch 36/500\n",
            "5/5 [==============================] - 0s 6ms/step - loss: 1.1610 - accuracy: 0.5400\n",
            "Epoch 37/500\n",
            "5/5 [==============================] - 0s 6ms/step - loss: 1.1613 - accuracy: 0.5600\n",
            "Epoch 38/500\n",
            "5/5 [==============================] - 0s 6ms/step - loss: 1.1481 - accuracy: 0.5400\n",
            "Epoch 39/500\n",
            "5/5 [==============================] - 0s 6ms/step - loss: 1.1573 - accuracy: 0.5600\n",
            "Epoch 40/500\n",
            "5/5 [==============================] - 0s 6ms/step - loss: 1.1539 - accuracy: 0.5600\n",
            "Epoch 41/500\n",
            "5/5 [==============================] - 0s 6ms/step - loss: 1.1594 - accuracy: 0.5600\n",
            "Epoch 42/500\n",
            "5/5 [==============================] - 0s 5ms/step - loss: 1.1612 - accuracy: 0.5200\n",
            "Epoch 43/500\n",
            "5/5 [==============================] - 0s 5ms/step - loss: 1.1430 - accuracy: 0.5400\n",
            "Epoch 44/500\n",
            "5/5 [==============================] - 0s 6ms/step - loss: 1.1518 - accuracy: 0.5600\n",
            "Epoch 45/500\n",
            "5/5 [==============================] - 0s 6ms/step - loss: 1.1475 - accuracy: 0.5600\n",
            "Epoch 46/500\n",
            "5/5 [==============================] - 0s 5ms/step - loss: 1.1394 - accuracy: 0.5400\n",
            "Epoch 47/500\n",
            "5/5 [==============================] - 0s 8ms/step - loss: 1.1434 - accuracy: 0.5200\n",
            "Epoch 48/500\n",
            "5/5 [==============================] - 0s 7ms/step - loss: 1.1406 - accuracy: 0.5200\n",
            "Epoch 49/500\n",
            "5/5 [==============================] - 0s 6ms/step - loss: 1.1344 - accuracy: 0.5600\n",
            "Epoch 50/500\n",
            "5/5 [==============================] - 0s 6ms/step - loss: 1.1286 - accuracy: 0.6000\n",
            "Epoch 51/500\n",
            "5/5 [==============================] - 0s 6ms/step - loss: 1.1407 - accuracy: 0.5800\n",
            "Epoch 52/500\n",
            "5/5 [==============================] - 0s 6ms/step - loss: 1.1333 - accuracy: 0.5600\n",
            "Epoch 53/500\n",
            "5/5 [==============================] - 0s 5ms/step - loss: 1.1270 - accuracy: 0.5400\n",
            "Epoch 54/500\n",
            "5/5 [==============================] - 0s 7ms/step - loss: 1.1352 - accuracy: 0.5800\n",
            "Epoch 55/500\n",
            "5/5 [==============================] - 0s 6ms/step - loss: 1.1258 - accuracy: 0.5600\n",
            "Epoch 56/500\n",
            "5/5 [==============================] - 0s 5ms/step - loss: 1.1291 - accuracy: 0.5600\n",
            "Epoch 57/500\n",
            "5/5 [==============================] - 0s 6ms/step - loss: 1.1269 - accuracy: 0.5800\n",
            "Epoch 58/500\n",
            "5/5 [==============================] - 0s 6ms/step - loss: 1.1387 - accuracy: 0.5600\n",
            "Epoch 59/500\n",
            "5/5 [==============================] - 0s 6ms/step - loss: 1.1208 - accuracy: 0.5600\n",
            "Epoch 60/500\n",
            "5/5 [==============================] - 0s 6ms/step - loss: 1.1290 - accuracy: 0.5600\n",
            "Epoch 61/500\n",
            "5/5 [==============================] - 0s 7ms/step - loss: 1.1291 - accuracy: 0.5600\n",
            "Epoch 62/500\n",
            "5/5 [==============================] - 0s 6ms/step - loss: 1.1230 - accuracy: 0.5600\n",
            "Epoch 63/500\n",
            "5/5 [==============================] - 0s 6ms/step - loss: 1.1545 - accuracy: 0.5600\n",
            "Epoch 64/500\n",
            "5/5 [==============================] - 0s 6ms/step - loss: 1.1238 - accuracy: 0.5600\n",
            "Epoch 65/500\n",
            "5/5 [==============================] - 0s 6ms/step - loss: 1.1195 - accuracy: 0.5600\n",
            "Epoch 66/500\n",
            "5/5 [==============================] - 0s 6ms/step - loss: 1.1210 - accuracy: 0.5000\n",
            "Epoch 67/500\n",
            "5/5 [==============================] - 0s 6ms/step - loss: 1.1190 - accuracy: 0.5600\n",
            "Epoch 68/500\n",
            "5/5 [==============================] - 0s 6ms/step - loss: 1.1173 - accuracy: 0.5400\n",
            "Epoch 69/500\n",
            "5/5 [==============================] - 0s 6ms/step - loss: 1.1195 - accuracy: 0.5800\n",
            "Epoch 70/500\n",
            "5/5 [==============================] - 0s 6ms/step - loss: 1.1139 - accuracy: 0.5800\n",
            "Epoch 71/500\n",
            "5/5 [==============================] - 0s 6ms/step - loss: 1.1171 - accuracy: 0.5800\n",
            "Epoch 72/500\n",
            "5/5 [==============================] - 0s 6ms/step - loss: 1.1036 - accuracy: 0.5600\n",
            "Epoch 73/500\n",
            "5/5 [==============================] - 0s 6ms/step - loss: 1.1145 - accuracy: 0.6000\n",
            "Epoch 74/500\n",
            "5/5 [==============================] - 0s 6ms/step - loss: 1.1095 - accuracy: 0.5600\n",
            "Epoch 75/500\n",
            "5/5 [==============================] - 0s 10ms/step - loss: 1.1061 - accuracy: 0.5000\n",
            "Epoch 76/500\n",
            "5/5 [==============================] - 0s 6ms/step - loss: 1.1075 - accuracy: 0.5600\n",
            "Epoch 77/500\n",
            "5/5 [==============================] - 0s 6ms/step - loss: 1.1069 - accuracy: 0.5200\n",
            "Epoch 78/500\n",
            "5/5 [==============================] - 0s 6ms/step - loss: 1.0993 - accuracy: 0.5400\n",
            "Epoch 79/500\n",
            "5/5 [==============================] - 0s 6ms/step - loss: 1.0930 - accuracy: 0.5400\n",
            "Epoch 80/500\n",
            "5/5 [==============================] - 0s 7ms/step - loss: 1.0936 - accuracy: 0.6000\n",
            "Epoch 81/500\n",
            "5/5 [==============================] - 0s 7ms/step - loss: 1.1069 - accuracy: 0.5600\n",
            "Epoch 82/500\n",
            "5/5 [==============================] - 0s 6ms/step - loss: 1.0946 - accuracy: 0.5600\n",
            "Epoch 83/500\n",
            "5/5 [==============================] - 0s 7ms/step - loss: 1.1027 - accuracy: 0.5600\n",
            "Epoch 84/500\n",
            "5/5 [==============================] - 0s 5ms/step - loss: 1.0988 - accuracy: 0.5600\n",
            "Epoch 85/500\n",
            "5/5 [==============================] - 0s 6ms/step - loss: 1.0999 - accuracy: 0.5600\n",
            "Epoch 86/500\n",
            "5/5 [==============================] - 0s 6ms/step - loss: 1.0892 - accuracy: 0.5600\n",
            "Epoch 87/500\n",
            "5/5 [==============================] - 0s 6ms/step - loss: 1.0874 - accuracy: 0.5800\n",
            "Epoch 88/500\n",
            "5/5 [==============================] - 0s 6ms/step - loss: 1.0859 - accuracy: 0.5400\n",
            "Epoch 89/500\n",
            "5/5 [==============================] - 0s 6ms/step - loss: 1.0863 - accuracy: 0.5600\n",
            "Epoch 90/500\n",
            "5/5 [==============================] - 0s 6ms/step - loss: 1.0960 - accuracy: 0.5600\n",
            "Epoch 91/500\n",
            "5/5 [==============================] - 0s 6ms/step - loss: 1.0850 - accuracy: 0.5400\n",
            "Epoch 92/500\n",
            "5/5 [==============================] - 0s 6ms/step - loss: 1.0862 - accuracy: 0.5400\n",
            "Epoch 93/500\n",
            "5/5 [==============================] - 0s 6ms/step - loss: 1.0791 - accuracy: 0.5400\n",
            "Epoch 94/500\n",
            "5/5 [==============================] - 0s 6ms/step - loss: 1.0894 - accuracy: 0.5600\n",
            "Epoch 95/500\n",
            "5/5 [==============================] - 0s 7ms/step - loss: 1.0865 - accuracy: 0.5800\n",
            "Epoch 96/500\n",
            "5/5 [==============================] - 0s 7ms/step - loss: 1.0880 - accuracy: 0.6000\n",
            "Epoch 97/500\n",
            "5/5 [==============================] - 0s 6ms/step - loss: 1.0780 - accuracy: 0.5600\n",
            "Epoch 98/500\n",
            "5/5 [==============================] - 0s 6ms/step - loss: 1.0849 - accuracy: 0.5800\n",
            "Epoch 99/500\n",
            "5/5 [==============================] - 0s 5ms/step - loss: 1.0812 - accuracy: 0.5600\n",
            "Epoch 100/500\n",
            "5/5 [==============================] - 0s 7ms/step - loss: 1.0738 - accuracy: 0.6000\n",
            "Epoch 101/500\n",
            "5/5 [==============================] - 0s 7ms/step - loss: 1.0792 - accuracy: 0.5600\n",
            "Epoch 102/500\n",
            "5/5 [==============================] - 0s 6ms/step - loss: 1.0730 - accuracy: 0.5600\n",
            "Epoch 103/500\n",
            "5/5 [==============================] - 0s 6ms/step - loss: 1.0833 - accuracy: 0.5400\n",
            "Epoch 104/500\n",
            "5/5 [==============================] - 0s 10ms/step - loss: 1.0718 - accuracy: 0.5800\n",
            "Epoch 105/500\n",
            "5/5 [==============================] - 0s 8ms/step - loss: 1.0774 - accuracy: 0.5600\n",
            "Epoch 106/500\n",
            "5/5 [==============================] - 0s 7ms/step - loss: 1.0848 - accuracy: 0.5600\n",
            "Epoch 107/500\n",
            "5/5 [==============================] - 0s 6ms/step - loss: 1.0736 - accuracy: 0.6000\n",
            "Epoch 108/500\n",
            "5/5 [==============================] - 0s 6ms/step - loss: 1.0844 - accuracy: 0.5800\n",
            "Epoch 109/500\n",
            "5/5 [==============================] - 0s 6ms/step - loss: 1.0635 - accuracy: 0.5600\n",
            "Epoch 110/500\n",
            "5/5 [==============================] - 0s 6ms/step - loss: 1.0756 - accuracy: 0.5800\n",
            "Epoch 111/500\n",
            "5/5 [==============================] - 0s 6ms/step - loss: 1.0758 - accuracy: 0.6200\n",
            "Epoch 112/500\n",
            "5/5 [==============================] - 0s 6ms/step - loss: 1.0576 - accuracy: 0.5600\n",
            "Epoch 113/500\n",
            "5/5 [==============================] - 0s 6ms/step - loss: 1.0737 - accuracy: 0.5600\n",
            "Epoch 114/500\n",
            "5/5 [==============================] - 0s 7ms/step - loss: 1.0570 - accuracy: 0.5800\n",
            "Epoch 115/500\n",
            "5/5 [==============================] - 0s 6ms/step - loss: 1.0708 - accuracy: 0.5600\n",
            "Epoch 116/500\n",
            "5/5 [==============================] - 0s 7ms/step - loss: 1.0669 - accuracy: 0.5800\n",
            "Epoch 117/500\n",
            "5/5 [==============================] - 0s 7ms/step - loss: 1.0576 - accuracy: 0.6000\n",
            "Epoch 118/500\n",
            "5/5 [==============================] - 0s 6ms/step - loss: 1.0661 - accuracy: 0.5800\n",
            "Epoch 119/500\n",
            "5/5 [==============================] - 0s 6ms/step - loss: 1.0589 - accuracy: 0.5600\n",
            "Epoch 120/500\n",
            "5/5 [==============================] - 0s 8ms/step - loss: 1.0635 - accuracy: 0.6000\n",
            "Epoch 121/500\n",
            "5/5 [==============================] - 0s 6ms/step - loss: 1.0608 - accuracy: 0.6000\n",
            "Epoch 122/500\n",
            "5/5 [==============================] - 0s 6ms/step - loss: 1.0661 - accuracy: 0.5600\n",
            "Epoch 123/500\n",
            "5/5 [==============================] - 0s 6ms/step - loss: 1.0546 - accuracy: 0.5800\n",
            "Epoch 124/500\n",
            "5/5 [==============================] - 0s 6ms/step - loss: 1.0640 - accuracy: 0.5600\n",
            "Epoch 125/500\n",
            "5/5 [==============================] - 0s 5ms/step - loss: 1.0602 - accuracy: 0.5600\n",
            "Epoch 126/500\n",
            "5/5 [==============================] - 0s 6ms/step - loss: 1.0819 - accuracy: 0.5800\n",
            "Epoch 127/500\n",
            "5/5 [==============================] - 0s 6ms/step - loss: 1.0385 - accuracy: 0.5600\n",
            "Epoch 128/500\n",
            "5/5 [==============================] - 0s 6ms/step - loss: 1.0887 - accuracy: 0.5800\n",
            "Epoch 129/500\n",
            "5/5 [==============================] - 0s 6ms/step - loss: 1.0604 - accuracy: 0.5200\n",
            "Epoch 130/500\n",
            "5/5 [==============================] - 0s 6ms/step - loss: 1.0589 - accuracy: 0.5800\n",
            "Epoch 131/500\n",
            "5/5 [==============================] - 0s 6ms/step - loss: 1.0548 - accuracy: 0.5800\n",
            "Epoch 132/500\n",
            "5/5 [==============================] - 0s 6ms/step - loss: 1.0544 - accuracy: 0.6000\n",
            "Epoch 133/500\n",
            "5/5 [==============================] - 0s 6ms/step - loss: 1.0480 - accuracy: 0.6000\n",
            "Epoch 134/500\n",
            "5/5 [==============================] - 0s 6ms/step - loss: 1.0561 - accuracy: 0.5800\n",
            "Epoch 135/500\n",
            "5/5 [==============================] - 0s 6ms/step - loss: 1.0529 - accuracy: 0.5800\n",
            "Epoch 136/500\n",
            "5/5 [==============================] - 0s 7ms/step - loss: 1.0405 - accuracy: 0.5800\n",
            "Epoch 137/500\n",
            "5/5 [==============================] - 0s 6ms/step - loss: 1.0446 - accuracy: 0.6200\n",
            "Epoch 138/500\n",
            "5/5 [==============================] - 0s 6ms/step - loss: 1.0394 - accuracy: 0.5800\n",
            "Epoch 139/500\n",
            "5/5 [==============================] - 0s 6ms/step - loss: 1.0368 - accuracy: 0.5400\n",
            "Epoch 140/500\n",
            "5/5 [==============================] - 0s 8ms/step - loss: 1.0307 - accuracy: 0.5800\n",
            "Epoch 141/500\n",
            "5/5 [==============================] - 0s 6ms/step - loss: 1.0883 - accuracy: 0.6000\n",
            "Epoch 142/500\n",
            "5/5 [==============================] - 0s 6ms/step - loss: 1.0619 - accuracy: 0.6000\n",
            "Epoch 143/500\n",
            "5/5 [==============================] - 0s 6ms/step - loss: 1.0318 - accuracy: 0.6000\n",
            "Epoch 144/500\n",
            "5/5 [==============================] - 0s 7ms/step - loss: 1.0436 - accuracy: 0.5800\n",
            "Epoch 145/500\n",
            "5/5 [==============================] - 0s 6ms/step - loss: 1.0397 - accuracy: 0.6000\n",
            "Epoch 146/500\n",
            "5/5 [==============================] - 0s 8ms/step - loss: 1.0414 - accuracy: 0.6000\n",
            "Epoch 147/500\n",
            "5/5 [==============================] - 0s 6ms/step - loss: 1.0332 - accuracy: 0.5800\n",
            "Epoch 148/500\n",
            "5/5 [==============================] - 0s 6ms/step - loss: 1.0308 - accuracy: 0.5600\n",
            "Epoch 149/500\n",
            "5/5 [==============================] - 0s 6ms/step - loss: 1.0297 - accuracy: 0.6200\n",
            "Epoch 150/500\n",
            "5/5 [==============================] - 0s 6ms/step - loss: 1.0348 - accuracy: 0.6000\n",
            "Epoch 151/500\n",
            "5/5 [==============================] - 0s 6ms/step - loss: 1.0449 - accuracy: 0.6000\n",
            "Epoch 152/500\n",
            "5/5 [==============================] - 0s 7ms/step - loss: 1.0192 - accuracy: 0.6000\n",
            "Epoch 153/500\n",
            "5/5 [==============================] - 0s 7ms/step - loss: 1.0233 - accuracy: 0.6200\n",
            "Epoch 154/500\n",
            "5/5 [==============================] - 0s 9ms/step - loss: 1.0256 - accuracy: 0.5400\n",
            "Epoch 155/500\n",
            "5/5 [==============================] - 0s 6ms/step - loss: 1.0402 - accuracy: 0.5800\n",
            "Epoch 156/500\n",
            "5/5 [==============================] - 0s 6ms/step - loss: 1.0137 - accuracy: 0.5800\n",
            "Epoch 157/500\n",
            "5/5 [==============================] - 0s 7ms/step - loss: 1.0265 - accuracy: 0.5800\n",
            "Epoch 158/500\n",
            "5/5 [==============================] - 0s 6ms/step - loss: 1.0226 - accuracy: 0.5800\n",
            "Epoch 159/500\n",
            "5/5 [==============================] - 0s 7ms/step - loss: 1.0138 - accuracy: 0.6200\n",
            "Epoch 160/500\n",
            "5/5 [==============================] - 0s 6ms/step - loss: 1.0428 - accuracy: 0.6000\n",
            "Epoch 161/500\n",
            "5/5 [==============================] - 0s 7ms/step - loss: 1.0644 - accuracy: 0.6000\n",
            "Epoch 162/500\n",
            "5/5 [==============================] - 0s 7ms/step - loss: 1.0298 - accuracy: 0.5600\n",
            "Epoch 163/500\n",
            "5/5 [==============================] - 0s 7ms/step - loss: 1.0487 - accuracy: 0.6000\n",
            "Epoch 164/500\n",
            "5/5 [==============================] - 0s 8ms/step - loss: 1.0401 - accuracy: 0.6400\n",
            "Epoch 165/500\n",
            "5/5 [==============================] - 0s 7ms/step - loss: 1.0765 - accuracy: 0.5600\n",
            "Epoch 166/500\n",
            "5/5 [==============================] - 0s 6ms/step - loss: 1.0166 - accuracy: 0.6200\n",
            "Epoch 167/500\n",
            "5/5 [==============================] - 0s 6ms/step - loss: 1.0540 - accuracy: 0.6000\n",
            "Epoch 168/500\n",
            "5/5 [==============================] - 0s 6ms/step - loss: 1.0084 - accuracy: 0.6200\n",
            "Epoch 169/500\n",
            "5/5 [==============================] - 0s 8ms/step - loss: 1.0158 - accuracy: 0.5800\n",
            "Epoch 170/500\n",
            "5/5 [==============================] - 0s 6ms/step - loss: 1.0258 - accuracy: 0.5800\n",
            "Epoch 171/500\n",
            "5/5 [==============================] - 0s 7ms/step - loss: 1.0227 - accuracy: 0.5800\n",
            "Epoch 172/500\n",
            "5/5 [==============================] - 0s 8ms/step - loss: 0.9977 - accuracy: 0.5800\n",
            "Epoch 173/500\n",
            "5/5 [==============================] - 0s 6ms/step - loss: 1.0111 - accuracy: 0.6000\n",
            "Epoch 174/500\n",
            "5/5 [==============================] - 0s 6ms/step - loss: 1.0140 - accuracy: 0.5600\n",
            "Epoch 175/500\n",
            "5/5 [==============================] - 0s 6ms/step - loss: 1.0117 - accuracy: 0.5800\n",
            "Epoch 176/500\n",
            "5/5 [==============================] - 0s 5ms/step - loss: 0.9989 - accuracy: 0.6000\n",
            "Epoch 177/500\n",
            "5/5 [==============================] - 0s 6ms/step - loss: 1.0028 - accuracy: 0.5800\n",
            "Epoch 178/500\n",
            "5/5 [==============================] - 0s 7ms/step - loss: 1.0079 - accuracy: 0.6200\n",
            "Epoch 179/500\n",
            "5/5 [==============================] - 0s 8ms/step - loss: 1.0055 - accuracy: 0.6000\n",
            "Epoch 180/500\n",
            "5/5 [==============================] - 0s 7ms/step - loss: 0.9912 - accuracy: 0.6000\n",
            "Epoch 181/500\n",
            "5/5 [==============================] - 0s 6ms/step - loss: 1.0049 - accuracy: 0.5600\n",
            "Epoch 182/500\n",
            "5/5 [==============================] - 0s 7ms/step - loss: 0.9936 - accuracy: 0.6400\n",
            "Epoch 183/500\n",
            "5/5 [==============================] - 0s 7ms/step - loss: 0.9981 - accuracy: 0.6200\n",
            "Epoch 184/500\n",
            "5/5 [==============================] - 0s 7ms/step - loss: 0.9930 - accuracy: 0.6000\n",
            "Epoch 185/500\n",
            "5/5 [==============================] - 0s 8ms/step - loss: 0.9948 - accuracy: 0.6000\n",
            "Epoch 186/500\n",
            "5/5 [==============================] - 0s 7ms/step - loss: 0.9881 - accuracy: 0.6400\n",
            "Epoch 187/500\n",
            "5/5 [==============================] - 0s 6ms/step - loss: 0.9957 - accuracy: 0.6000\n",
            "Epoch 188/500\n",
            "5/5 [==============================] - 0s 7ms/step - loss: 0.9873 - accuracy: 0.6000\n",
            "Epoch 189/500\n",
            "5/5 [==============================] - 0s 6ms/step - loss: 0.9857 - accuracy: 0.6400\n",
            "Epoch 190/500\n",
            "5/5 [==============================] - 0s 6ms/step - loss: 0.9867 - accuracy: 0.6000\n",
            "Epoch 191/500\n",
            "5/5 [==============================] - 0s 7ms/step - loss: 0.9882 - accuracy: 0.6400\n",
            "Epoch 192/500\n",
            "5/5 [==============================] - 0s 6ms/step - loss: 0.9820 - accuracy: 0.6400\n",
            "Epoch 193/500\n",
            "5/5 [==============================] - 0s 7ms/step - loss: 0.9831 - accuracy: 0.6000\n",
            "Epoch 194/500\n",
            "5/5 [==============================] - 0s 6ms/step - loss: 0.9966 - accuracy: 0.6000\n",
            "Epoch 195/500\n",
            "5/5 [==============================] - 0s 7ms/step - loss: 0.9800 - accuracy: 0.6400\n",
            "Epoch 196/500\n",
            "5/5 [==============================] - 0s 7ms/step - loss: 0.9886 - accuracy: 0.6200\n",
            "Epoch 197/500\n",
            "5/5 [==============================] - 0s 6ms/step - loss: 0.9706 - accuracy: 0.6000\n",
            "Epoch 198/500\n",
            "5/5 [==============================] - 0s 7ms/step - loss: 0.9982 - accuracy: 0.6400\n",
            "Epoch 199/500\n",
            "5/5 [==============================] - 0s 6ms/step - loss: 0.9774 - accuracy: 0.6000\n",
            "Epoch 200/500\n",
            "5/5 [==============================] - 0s 6ms/step - loss: 0.9767 - accuracy: 0.6000\n",
            "Epoch 201/500\n",
            "5/5 [==============================] - 0s 7ms/step - loss: 0.9901 - accuracy: 0.6000\n",
            "Epoch 202/500\n",
            "5/5 [==============================] - 0s 6ms/step - loss: 0.9896 - accuracy: 0.6400\n",
            "Epoch 203/500\n",
            "5/5 [==============================] - 0s 6ms/step - loss: 0.9619 - accuracy: 0.6400\n",
            "Epoch 204/500\n",
            "5/5 [==============================] - 0s 7ms/step - loss: 0.9771 - accuracy: 0.6200\n",
            "Epoch 205/500\n",
            "5/5 [==============================] - 0s 6ms/step - loss: 0.9728 - accuracy: 0.6400\n",
            "Epoch 206/500\n",
            "5/5 [==============================] - 0s 8ms/step - loss: 0.9681 - accuracy: 0.6000\n",
            "Epoch 207/500\n",
            "5/5 [==============================] - 0s 6ms/step - loss: 0.9720 - accuracy: 0.6400\n",
            "Epoch 208/500\n",
            "5/5 [==============================] - 0s 6ms/step - loss: 0.9731 - accuracy: 0.6400\n",
            "Epoch 209/500\n",
            "5/5 [==============================] - 0s 6ms/step - loss: 0.9696 - accuracy: 0.6000\n",
            "Epoch 210/500\n",
            "5/5 [==============================] - 0s 8ms/step - loss: 0.9797 - accuracy: 0.6000\n",
            "Epoch 211/500\n",
            "5/5 [==============================] - 0s 6ms/step - loss: 0.9670 - accuracy: 0.6000\n",
            "Epoch 212/500\n",
            "5/5 [==============================] - 0s 7ms/step - loss: 0.9748 - accuracy: 0.6000\n",
            "Epoch 213/500\n",
            "5/5 [==============================] - 0s 7ms/step - loss: 0.9714 - accuracy: 0.6400\n",
            "Epoch 214/500\n",
            "5/5 [==============================] - 0s 6ms/step - loss: 0.9595 - accuracy: 0.6400\n",
            "Epoch 215/500\n",
            "5/5 [==============================] - 0s 6ms/step - loss: 0.9645 - accuracy: 0.6000\n",
            "Epoch 216/500\n",
            "5/5 [==============================] - 0s 6ms/step - loss: 0.9804 - accuracy: 0.6000\n",
            "Epoch 217/500\n",
            "5/5 [==============================] - 0s 8ms/step - loss: 0.9629 - accuracy: 0.6400\n",
            "Epoch 218/500\n",
            "5/5 [==============================] - 0s 7ms/step - loss: 0.9640 - accuracy: 0.6000\n",
            "Epoch 219/500\n",
            "5/5 [==============================] - 0s 7ms/step - loss: 0.9562 - accuracy: 0.6400\n",
            "Epoch 220/500\n",
            "5/5 [==============================] - 0s 6ms/step - loss: 0.9661 - accuracy: 0.5800\n",
            "Epoch 221/500\n",
            "5/5 [==============================] - 0s 6ms/step - loss: 0.9630 - accuracy: 0.5800\n",
            "Epoch 222/500\n",
            "5/5 [==============================] - 0s 7ms/step - loss: 0.9635 - accuracy: 0.6000\n",
            "Epoch 223/500\n",
            "5/5 [==============================] - 0s 7ms/step - loss: 0.9535 - accuracy: 0.5800\n",
            "Epoch 224/500\n",
            "5/5 [==============================] - 0s 6ms/step - loss: 0.9562 - accuracy: 0.6400\n",
            "Epoch 225/500\n",
            "5/5 [==============================] - 0s 6ms/step - loss: 0.9527 - accuracy: 0.6000\n",
            "Epoch 226/500\n",
            "5/5 [==============================] - 0s 7ms/step - loss: 0.9577 - accuracy: 0.6400\n",
            "Epoch 227/500\n",
            "5/5 [==============================] - 0s 7ms/step - loss: 0.9449 - accuracy: 0.6400\n",
            "Epoch 228/500\n",
            "5/5 [==============================] - 0s 10ms/step - loss: 0.9623 - accuracy: 0.6400\n",
            "Epoch 229/500\n",
            "5/5 [==============================] - 0s 6ms/step - loss: 0.9722 - accuracy: 0.6000\n",
            "Epoch 230/500\n",
            "5/5 [==============================] - 0s 6ms/step - loss: 0.9525 - accuracy: 0.6400\n",
            "Epoch 231/500\n",
            "5/5 [==============================] - 0s 8ms/step - loss: 0.9563 - accuracy: 0.6400\n",
            "Epoch 232/500\n",
            "5/5 [==============================] - 0s 7ms/step - loss: 0.9561 - accuracy: 0.6200\n",
            "Epoch 233/500\n",
            "5/5 [==============================] - 0s 6ms/step - loss: 0.9514 - accuracy: 0.6400\n",
            "Epoch 234/500\n",
            "5/5 [==============================] - 0s 7ms/step - loss: 0.9574 - accuracy: 0.6600\n",
            "Epoch 235/500\n",
            "5/5 [==============================] - 0s 6ms/step - loss: 0.9500 - accuracy: 0.6400\n",
            "Epoch 236/500\n",
            "5/5 [==============================] - 0s 7ms/step - loss: 0.9385 - accuracy: 0.6200\n",
            "Epoch 237/500\n",
            "5/5 [==============================] - 0s 7ms/step - loss: 0.9434 - accuracy: 0.6200\n",
            "Epoch 238/500\n",
            "5/5 [==============================] - 0s 7ms/step - loss: 0.9423 - accuracy: 0.6400\n",
            "Epoch 239/500\n",
            "5/5 [==============================] - 0s 6ms/step - loss: 0.9387 - accuracy: 0.6400\n",
            "Epoch 240/500\n",
            "5/5 [==============================] - 0s 6ms/step - loss: 0.9402 - accuracy: 0.6200\n",
            "Epoch 241/500\n",
            "5/5 [==============================] - 0s 7ms/step - loss: 0.9346 - accuracy: 0.6200\n",
            "Epoch 242/500\n",
            "5/5 [==============================] - 0s 8ms/step - loss: 0.9536 - accuracy: 0.6200\n",
            "Epoch 243/500\n",
            "5/5 [==============================] - 0s 6ms/step - loss: 0.9371 - accuracy: 0.6200\n",
            "Epoch 244/500\n",
            "5/5 [==============================] - 0s 7ms/step - loss: 0.9396 - accuracy: 0.6400\n",
            "Epoch 245/500\n",
            "5/5 [==============================] - 0s 7ms/step - loss: 0.9351 - accuracy: 0.6400\n",
            "Epoch 246/500\n",
            "5/5 [==============================] - 0s 6ms/step - loss: 0.9295 - accuracy: 0.6400\n",
            "Epoch 247/500\n",
            "5/5 [==============================] - 0s 6ms/step - loss: 0.9286 - accuracy: 0.6400\n",
            "Epoch 248/500\n",
            "5/5 [==============================] - 0s 7ms/step - loss: 0.9323 - accuracy: 0.6000\n",
            "Epoch 249/500\n",
            "5/5 [==============================] - 0s 7ms/step - loss: 0.9276 - accuracy: 0.6000\n",
            "Epoch 250/500\n",
            "5/5 [==============================] - 0s 8ms/step - loss: 0.9339 - accuracy: 0.6200\n",
            "Epoch 251/500\n",
            "5/5 [==============================] - 0s 7ms/step - loss: 0.9394 - accuracy: 0.6400\n",
            "Epoch 252/500\n",
            "5/5 [==============================] - 0s 8ms/step - loss: 0.9402 - accuracy: 0.6400\n",
            "Epoch 253/500\n",
            "5/5 [==============================] - 0s 7ms/step - loss: 0.9448 - accuracy: 0.6400\n",
            "Epoch 254/500\n",
            "5/5 [==============================] - 0s 7ms/step - loss: 0.9263 - accuracy: 0.6400\n",
            "Epoch 255/500\n",
            "5/5 [==============================] - 0s 7ms/step - loss: 0.9251 - accuracy: 0.6400\n",
            "Epoch 256/500\n",
            "5/5 [==============================] - 0s 6ms/step - loss: 0.9268 - accuracy: 0.6000\n",
            "Epoch 257/500\n",
            "5/5 [==============================] - 0s 7ms/step - loss: 0.9281 - accuracy: 0.6000\n",
            "Epoch 258/500\n",
            "5/5 [==============================] - 0s 6ms/step - loss: 0.9250 - accuracy: 0.6200\n",
            "Epoch 259/500\n",
            "5/5 [==============================] - 0s 7ms/step - loss: 0.9191 - accuracy: 0.6400\n",
            "Epoch 260/500\n",
            "5/5 [==============================] - 0s 7ms/step - loss: 0.9173 - accuracy: 0.6400\n",
            "Epoch 261/500\n",
            "5/5 [==============================] - 0s 6ms/step - loss: 0.9244 - accuracy: 0.6400\n",
            "Epoch 262/500\n",
            "5/5 [==============================] - 0s 7ms/step - loss: 0.9161 - accuracy: 0.6400\n",
            "Epoch 263/500\n",
            "5/5 [==============================] - 0s 7ms/step - loss: 0.9314 - accuracy: 0.6200\n",
            "Epoch 264/500\n",
            "5/5 [==============================] - 0s 7ms/step - loss: 0.9252 - accuracy: 0.6400\n",
            "Epoch 265/500\n",
            "5/5 [==============================] - 0s 7ms/step - loss: 0.9266 - accuracy: 0.6200\n",
            "Epoch 266/500\n",
            "5/5 [==============================] - 0s 8ms/step - loss: 0.9387 - accuracy: 0.6200\n",
            "Epoch 267/500\n",
            "5/5 [==============================] - 0s 7ms/step - loss: 0.9221 - accuracy: 0.6200\n",
            "Epoch 268/500\n",
            "5/5 [==============================] - 0s 6ms/step - loss: 0.9128 - accuracy: 0.6000\n",
            "Epoch 269/500\n",
            "5/5 [==============================] - 0s 6ms/step - loss: 0.9096 - accuracy: 0.6400\n",
            "Epoch 270/500\n",
            "5/5 [==============================] - 0s 6ms/step - loss: 0.9106 - accuracy: 0.6000\n",
            "Epoch 271/500\n",
            "5/5 [==============================] - 0s 6ms/step - loss: 0.9194 - accuracy: 0.6400\n",
            "Epoch 272/500\n",
            "5/5 [==============================] - 0s 6ms/step - loss: 0.9150 - accuracy: 0.6600\n",
            "Epoch 273/500\n",
            "5/5 [==============================] - 0s 8ms/step - loss: 0.9232 - accuracy: 0.6200\n",
            "Epoch 274/500\n",
            "5/5 [==============================] - 0s 6ms/step - loss: 0.9180 - accuracy: 0.6600\n",
            "Epoch 275/500\n",
            "5/5 [==============================] - 0s 6ms/step - loss: 0.9170 - accuracy: 0.6400\n",
            "Epoch 276/500\n",
            "5/5 [==============================] - 0s 6ms/step - loss: 0.9102 - accuracy: 0.6400\n",
            "Epoch 277/500\n",
            "5/5 [==============================] - 0s 7ms/step - loss: 0.9114 - accuracy: 0.6400\n",
            "Epoch 278/500\n",
            "5/5 [==============================] - 0s 6ms/step - loss: 0.9122 - accuracy: 0.6400\n",
            "Epoch 279/500\n",
            "5/5 [==============================] - 0s 7ms/step - loss: 0.9135 - accuracy: 0.6400\n",
            "Epoch 280/500\n",
            "5/5 [==============================] - 0s 6ms/step - loss: 0.9095 - accuracy: 0.6600\n",
            "Epoch 281/500\n",
            "5/5 [==============================] - 0s 6ms/step - loss: 0.9127 - accuracy: 0.6400\n",
            "Epoch 282/500\n",
            "5/5 [==============================] - 0s 6ms/step - loss: 0.9004 - accuracy: 0.6000\n",
            "Epoch 283/500\n",
            "5/5 [==============================] - 0s 6ms/step - loss: 0.8983 - accuracy: 0.6200\n",
            "Epoch 284/500\n",
            "5/5 [==============================] - 0s 6ms/step - loss: 0.8933 - accuracy: 0.6600\n",
            "Epoch 285/500\n",
            "5/5 [==============================] - 0s 7ms/step - loss: 0.9091 - accuracy: 0.6400\n",
            "Epoch 286/500\n",
            "5/5 [==============================] - 0s 7ms/step - loss: 0.8988 - accuracy: 0.6400\n",
            "Epoch 287/500\n",
            "5/5 [==============================] - 0s 6ms/step - loss: 0.9010 - accuracy: 0.6400\n",
            "Epoch 288/500\n",
            "5/5 [==============================] - 0s 6ms/step - loss: 0.9001 - accuracy: 0.6400\n",
            "Epoch 289/500\n",
            "5/5 [==============================] - 0s 7ms/step - loss: 0.8998 - accuracy: 0.6400\n",
            "Epoch 290/500\n",
            "5/5 [==============================] - 0s 6ms/step - loss: 0.8988 - accuracy: 0.6400\n",
            "Epoch 291/500\n",
            "5/5 [==============================] - 0s 6ms/step - loss: 0.9063 - accuracy: 0.6400\n",
            "Epoch 292/500\n",
            "5/5 [==============================] - 0s 8ms/step - loss: 0.8920 - accuracy: 0.6000\n",
            "Epoch 293/500\n",
            "5/5 [==============================] - 0s 6ms/step - loss: 0.9025 - accuracy: 0.6400\n",
            "Epoch 294/500\n",
            "5/5 [==============================] - 0s 8ms/step - loss: 0.9009 - accuracy: 0.6000\n",
            "Epoch 295/500\n",
            "5/5 [==============================] - 0s 6ms/step - loss: 0.9219 - accuracy: 0.6200\n",
            "Epoch 296/500\n",
            "5/5 [==============================] - 0s 6ms/step - loss: 0.9214 - accuracy: 0.6400\n",
            "Epoch 297/500\n",
            "5/5 [==============================] - 0s 6ms/step - loss: 0.8903 - accuracy: 0.6400\n",
            "Epoch 298/500\n",
            "5/5 [==============================] - 0s 6ms/step - loss: 0.9055 - accuracy: 0.5800\n",
            "Epoch 299/500\n",
            "5/5 [==============================] - 0s 7ms/step - loss: 0.8841 - accuracy: 0.6800\n",
            "Epoch 300/500\n",
            "5/5 [==============================] - 0s 6ms/step - loss: 0.8831 - accuracy: 0.6600\n",
            "Epoch 301/500\n",
            "5/5 [==============================] - 0s 9ms/step - loss: 0.8837 - accuracy: 0.6600\n",
            "Epoch 302/500\n",
            "5/5 [==============================] - 0s 6ms/step - loss: 0.8855 - accuracy: 0.6600\n",
            "Epoch 303/500\n",
            "5/5 [==============================] - 0s 6ms/step - loss: 0.8813 - accuracy: 0.6600\n",
            "Epoch 304/500\n",
            "5/5 [==============================] - 0s 7ms/step - loss: 0.8785 - accuracy: 0.6200\n",
            "Epoch 305/500\n",
            "5/5 [==============================] - 0s 7ms/step - loss: 0.8817 - accuracy: 0.6200\n",
            "Epoch 306/500\n",
            "5/5 [==============================] - 0s 6ms/step - loss: 0.8932 - accuracy: 0.6400\n",
            "Epoch 307/500\n",
            "5/5 [==============================] - 0s 7ms/step - loss: 0.9031 - accuracy: 0.6200\n",
            "Epoch 308/500\n",
            "5/5 [==============================] - 0s 7ms/step - loss: 0.8913 - accuracy: 0.6600\n",
            "Epoch 309/500\n",
            "5/5 [==============================] - 0s 7ms/step - loss: 0.8900 - accuracy: 0.6400\n",
            "Epoch 310/500\n",
            "5/5 [==============================] - 0s 6ms/step - loss: 0.8852 - accuracy: 0.6600\n",
            "Epoch 311/500\n",
            "5/5 [==============================] - 0s 7ms/step - loss: 0.8934 - accuracy: 0.6600\n",
            "Epoch 312/500\n",
            "5/5 [==============================] - 0s 8ms/step - loss: 0.8739 - accuracy: 0.6600\n",
            "Epoch 313/500\n",
            "5/5 [==============================] - 0s 7ms/step - loss: 0.8786 - accuracy: 0.6600\n",
            "Epoch 314/500\n",
            "5/5 [==============================] - 0s 7ms/step - loss: 0.8766 - accuracy: 0.6200\n",
            "Epoch 315/500\n",
            "5/5 [==============================] - 0s 7ms/step - loss: 0.8958 - accuracy: 0.6400\n",
            "Epoch 316/500\n",
            "5/5 [==============================] - 0s 7ms/step - loss: 0.8747 - accuracy: 0.6400\n",
            "Epoch 317/500\n",
            "5/5 [==============================] - 0s 6ms/step - loss: 0.8693 - accuracy: 0.6600\n",
            "Epoch 318/500\n",
            "5/5 [==============================] - 0s 7ms/step - loss: 0.8756 - accuracy: 0.6600\n",
            "Epoch 319/500\n",
            "5/5 [==============================] - 0s 7ms/step - loss: 0.8707 - accuracy: 0.6400\n",
            "Epoch 320/500\n",
            "5/5 [==============================] - 0s 6ms/step - loss: 0.8673 - accuracy: 0.6400\n",
            "Epoch 321/500\n",
            "5/5 [==============================] - 0s 7ms/step - loss: 0.8805 - accuracy: 0.6400\n",
            "Epoch 322/500\n",
            "5/5 [==============================] - 0s 6ms/step - loss: 0.8782 - accuracy: 0.6200\n",
            "Epoch 323/500\n",
            "5/5 [==============================] - 0s 6ms/step - loss: 0.8595 - accuracy: 0.6600\n",
            "Epoch 324/500\n",
            "5/5 [==============================] - 0s 6ms/step - loss: 0.8715 - accuracy: 0.6600\n",
            "Epoch 325/500\n",
            "5/5 [==============================] - 0s 8ms/step - loss: 0.8614 - accuracy: 0.6600\n",
            "Epoch 326/500\n",
            "5/5 [==============================] - 0s 7ms/step - loss: 0.8663 - accuracy: 0.6200\n",
            "Epoch 327/500\n",
            "5/5 [==============================] - 0s 6ms/step - loss: 0.8610 - accuracy: 0.6600\n",
            "Epoch 328/500\n",
            "5/5 [==============================] - 0s 6ms/step - loss: 0.8662 - accuracy: 0.6600\n",
            "Epoch 329/500\n",
            "5/5 [==============================] - 0s 6ms/step - loss: 0.8675 - accuracy: 0.6200\n",
            "Epoch 330/500\n",
            "5/5 [==============================] - 0s 6ms/step - loss: 0.8849 - accuracy: 0.6400\n",
            "Epoch 331/500\n",
            "5/5 [==============================] - 0s 7ms/step - loss: 0.8495 - accuracy: 0.6600\n",
            "Epoch 332/500\n",
            "5/5 [==============================] - 0s 7ms/step - loss: 0.8688 - accuracy: 0.6400\n",
            "Epoch 333/500\n",
            "5/5 [==============================] - 0s 7ms/step - loss: 0.8573 - accuracy: 0.6600\n",
            "Epoch 334/500\n",
            "5/5 [==============================] - 0s 6ms/step - loss: 0.8541 - accuracy: 0.6600\n",
            "Epoch 335/500\n",
            "5/5 [==============================] - 0s 7ms/step - loss: 0.8587 - accuracy: 0.6600\n",
            "Epoch 336/500\n",
            "5/5 [==============================] - 0s 7ms/step - loss: 0.8786 - accuracy: 0.6800\n",
            "Epoch 337/500\n",
            "5/5 [==============================] - 0s 8ms/step - loss: 0.8634 - accuracy: 0.6600\n",
            "Epoch 338/500\n",
            "5/5 [==============================] - 0s 7ms/step - loss: 0.8552 - accuracy: 0.6600\n",
            "Epoch 339/500\n",
            "5/5 [==============================] - 0s 7ms/step - loss: 0.8497 - accuracy: 0.6800\n",
            "Epoch 340/500\n",
            "5/5 [==============================] - 0s 8ms/step - loss: 0.8481 - accuracy: 0.6800\n",
            "Epoch 341/500\n",
            "5/5 [==============================] - 0s 7ms/step - loss: 0.8569 - accuracy: 0.6600\n",
            "Epoch 342/500\n",
            "5/5 [==============================] - 0s 6ms/step - loss: 0.8502 - accuracy: 0.6600\n",
            "Epoch 343/500\n",
            "5/5 [==============================] - 0s 7ms/step - loss: 0.8569 - accuracy: 0.6200\n",
            "Epoch 344/500\n",
            "5/5 [==============================] - 0s 7ms/step - loss: 0.8515 - accuracy: 0.6400\n",
            "Epoch 345/500\n",
            "5/5 [==============================] - 0s 8ms/step - loss: 0.8388 - accuracy: 0.6800\n",
            "Epoch 346/500\n",
            "5/5 [==============================] - 0s 7ms/step - loss: 0.8503 - accuracy: 0.6800\n",
            "Epoch 347/500\n",
            "5/5 [==============================] - 0s 6ms/step - loss: 0.8642 - accuracy: 0.6600\n",
            "Epoch 348/500\n",
            "5/5 [==============================] - 0s 6ms/step - loss: 0.8424 - accuracy: 0.6400\n",
            "Epoch 349/500\n",
            "5/5 [==============================] - 0s 8ms/step - loss: 0.8513 - accuracy: 0.6600\n",
            "Epoch 350/500\n",
            "5/5 [==============================] - 0s 8ms/step - loss: 0.8483 - accuracy: 0.6400\n",
            "Epoch 351/500\n",
            "5/5 [==============================] - 0s 10ms/step - loss: 0.8435 - accuracy: 0.6400\n",
            "Epoch 352/500\n",
            "5/5 [==============================] - 0s 7ms/step - loss: 0.8532 - accuracy: 0.6400\n",
            "Epoch 353/500\n",
            "5/5 [==============================] - 0s 7ms/step - loss: 0.8353 - accuracy: 0.6600\n",
            "Epoch 354/500\n",
            "5/5 [==============================] - 0s 7ms/step - loss: 0.8490 - accuracy: 0.6800\n",
            "Epoch 355/500\n",
            "5/5 [==============================] - 0s 7ms/step - loss: 0.8422 - accuracy: 0.6600\n",
            "Epoch 356/500\n",
            "5/5 [==============================] - 0s 7ms/step - loss: 0.8374 - accuracy: 0.6600\n",
            "Epoch 357/500\n",
            "5/5 [==============================] - 0s 8ms/step - loss: 0.8386 - accuracy: 0.6600\n",
            "Epoch 358/500\n",
            "5/5 [==============================] - 0s 7ms/step - loss: 0.8582 - accuracy: 0.6400\n",
            "Epoch 359/500\n",
            "5/5 [==============================] - 0s 7ms/step - loss: 0.8500 - accuracy: 0.6400\n",
            "Epoch 360/500\n",
            "5/5 [==============================] - 0s 7ms/step - loss: 0.8383 - accuracy: 0.6600\n",
            "Epoch 361/500\n",
            "5/5 [==============================] - 0s 7ms/step - loss: 0.8391 - accuracy: 0.6600\n",
            "Epoch 362/500\n",
            "5/5 [==============================] - 0s 6ms/step - loss: 0.8731 - accuracy: 0.6800\n",
            "Epoch 363/500\n",
            "5/5 [==============================] - 0s 7ms/step - loss: 0.8411 - accuracy: 0.6800\n",
            "Epoch 364/500\n",
            "5/5 [==============================] - 0s 7ms/step - loss: 0.8420 - accuracy: 0.6400\n",
            "Epoch 365/500\n",
            "5/5 [==============================] - 0s 7ms/step - loss: 0.8301 - accuracy: 0.6600\n",
            "Epoch 366/500\n",
            "5/5 [==============================] - 0s 8ms/step - loss: 0.8498 - accuracy: 0.6400\n",
            "Epoch 367/500\n",
            "5/5 [==============================] - 0s 7ms/step - loss: 0.8235 - accuracy: 0.6800\n",
            "Epoch 368/500\n",
            "5/5 [==============================] - 0s 6ms/step - loss: 0.8427 - accuracy: 0.6400\n",
            "Epoch 369/500\n",
            "5/5 [==============================] - 0s 6ms/step - loss: 0.8338 - accuracy: 0.6800\n",
            "Epoch 370/500\n",
            "5/5 [==============================] - 0s 6ms/step - loss: 0.8373 - accuracy: 0.6600\n",
            "Epoch 371/500\n",
            "5/5 [==============================] - 0s 7ms/step - loss: 0.8431 - accuracy: 0.6800\n",
            "Epoch 372/500\n",
            "5/5 [==============================] - 0s 10ms/step - loss: 0.8791 - accuracy: 0.6600\n",
            "Epoch 373/500\n",
            "5/5 [==============================] - 0s 7ms/step - loss: 0.8249 - accuracy: 0.6600\n",
            "Epoch 374/500\n",
            "5/5 [==============================] - 0s 6ms/step - loss: 0.8434 - accuracy: 0.6600\n",
            "Epoch 375/500\n",
            "5/5 [==============================] - 0s 7ms/step - loss: 0.8366 - accuracy: 0.6600\n",
            "Epoch 376/500\n",
            "5/5 [==============================] - 0s 7ms/step - loss: 0.8256 - accuracy: 0.6600\n",
            "Epoch 377/500\n",
            "5/5 [==============================] - 0s 6ms/step - loss: 0.8172 - accuracy: 0.6800\n",
            "Epoch 378/500\n",
            "5/5 [==============================] - 0s 7ms/step - loss: 0.8318 - accuracy: 0.6800\n",
            "Epoch 379/500\n",
            "5/5 [==============================] - 0s 7ms/step - loss: 0.8126 - accuracy: 0.6600\n",
            "Epoch 380/500\n",
            "5/5 [==============================] - 0s 7ms/step - loss: 0.8223 - accuracy: 0.6400\n",
            "Epoch 381/500\n",
            "5/5 [==============================] - 0s 7ms/step - loss: 0.8187 - accuracy: 0.6800\n",
            "Epoch 382/500\n",
            "5/5 [==============================] - 0s 7ms/step - loss: 0.8295 - accuracy: 0.6600\n",
            "Epoch 383/500\n",
            "5/5 [==============================] - 0s 7ms/step - loss: 0.8127 - accuracy: 0.6600\n",
            "Epoch 384/500\n",
            "5/5 [==============================] - 0s 8ms/step - loss: 0.8106 - accuracy: 0.6800\n",
            "Epoch 385/500\n",
            "5/5 [==============================] - 0s 7ms/step - loss: 0.8121 - accuracy: 0.6800\n",
            "Epoch 386/500\n",
            "5/5 [==============================] - 0s 6ms/step - loss: 0.8095 - accuracy: 0.6800\n",
            "Epoch 387/500\n",
            "5/5 [==============================] - 0s 8ms/step - loss: 0.8139 - accuracy: 0.6400\n",
            "Epoch 388/500\n",
            "5/5 [==============================] - 0s 7ms/step - loss: 0.8258 - accuracy: 0.6400\n",
            "Epoch 389/500\n",
            "5/5 [==============================] - 0s 7ms/step - loss: 0.8184 - accuracy: 0.6800\n",
            "Epoch 390/500\n",
            "5/5 [==============================] - 0s 7ms/step - loss: 0.8159 - accuracy: 0.6600\n",
            "Epoch 391/500\n",
            "5/5 [==============================] - 0s 7ms/step - loss: 0.8138 - accuracy: 0.6800\n",
            "Epoch 392/500\n",
            "5/5 [==============================] - 0s 6ms/step - loss: 0.8176 - accuracy: 0.6400\n",
            "Epoch 393/500\n",
            "5/5 [==============================] - 0s 8ms/step - loss: 0.8074 - accuracy: 0.6600\n",
            "Epoch 394/500\n",
            "5/5 [==============================] - 0s 6ms/step - loss: 0.8112 - accuracy: 0.6800\n",
            "Epoch 395/500\n",
            "5/5 [==============================] - 0s 7ms/step - loss: 0.8089 - accuracy: 0.6800\n",
            "Epoch 396/500\n",
            "5/5 [==============================] - 0s 9ms/step - loss: 0.8173 - accuracy: 0.6800\n",
            "Epoch 397/500\n",
            "5/5 [==============================] - 0s 8ms/step - loss: 0.8055 - accuracy: 0.6800\n",
            "Epoch 398/500\n",
            "5/5 [==============================] - 0s 6ms/step - loss: 0.8173 - accuracy: 0.6600\n",
            "Epoch 399/500\n",
            "5/5 [==============================] - 0s 6ms/step - loss: 0.8145 - accuracy: 0.6800\n",
            "Epoch 400/500\n",
            "5/5 [==============================] - 0s 7ms/step - loss: 0.7958 - accuracy: 0.6800\n",
            "Epoch 401/500\n",
            "5/5 [==============================] - 0s 7ms/step - loss: 0.8048 - accuracy: 0.6600\n",
            "Epoch 402/500\n",
            "5/5 [==============================] - 0s 7ms/step - loss: 0.8055 - accuracy: 0.6800\n",
            "Epoch 403/500\n",
            "5/5 [==============================] - 0s 6ms/step - loss: 0.7995 - accuracy: 0.6800\n",
            "Epoch 404/500\n",
            "5/5 [==============================] - 0s 6ms/step - loss: 0.8110 - accuracy: 0.6600\n",
            "Epoch 405/500\n",
            "5/5 [==============================] - 0s 7ms/step - loss: 0.7944 - accuracy: 0.6800\n",
            "Epoch 406/500\n",
            "5/5 [==============================] - 0s 7ms/step - loss: 0.8010 - accuracy: 0.6600\n",
            "Epoch 407/500\n",
            "5/5 [==============================] - 0s 7ms/step - loss: 0.8031 - accuracy: 0.6800\n",
            "Epoch 408/500\n",
            "5/5 [==============================] - 0s 7ms/step - loss: 0.7996 - accuracy: 0.6800\n",
            "Epoch 409/500\n",
            "5/5 [==============================] - 0s 6ms/step - loss: 0.8139 - accuracy: 0.6600\n",
            "Epoch 410/500\n",
            "5/5 [==============================] - 0s 7ms/step - loss: 0.8005 - accuracy: 0.6800\n",
            "Epoch 411/500\n",
            "5/5 [==============================] - 0s 8ms/step - loss: 0.7911 - accuracy: 0.6800\n",
            "Epoch 412/500\n",
            "5/5 [==============================] - 0s 7ms/step - loss: 0.7919 - accuracy: 0.6800\n",
            "Epoch 413/500\n",
            "5/5 [==============================] - 0s 7ms/step - loss: 0.8098 - accuracy: 0.6400\n",
            "Epoch 414/500\n",
            "5/5 [==============================] - 0s 7ms/step - loss: 0.8047 - accuracy: 0.6800\n",
            "Epoch 415/500\n",
            "5/5 [==============================] - 0s 7ms/step - loss: 0.8005 - accuracy: 0.6600\n",
            "Epoch 416/500\n",
            "5/5 [==============================] - 0s 7ms/step - loss: 0.7923 - accuracy: 0.7000\n",
            "Epoch 417/500\n",
            "5/5 [==============================] - 0s 7ms/step - loss: 0.8116 - accuracy: 0.6800\n",
            "Epoch 418/500\n",
            "5/5 [==============================] - 0s 8ms/step - loss: 0.7903 - accuracy: 0.7200\n",
            "Epoch 419/500\n",
            "5/5 [==============================] - 0s 7ms/step - loss: 0.7883 - accuracy: 0.7000\n",
            "Epoch 420/500\n",
            "5/5 [==============================] - 0s 6ms/step - loss: 0.7918 - accuracy: 0.7000\n",
            "Epoch 421/500\n",
            "5/5 [==============================] - 0s 7ms/step - loss: 0.7875 - accuracy: 0.6800\n",
            "Epoch 422/500\n",
            "5/5 [==============================] - 0s 8ms/step - loss: 0.7865 - accuracy: 0.7000\n",
            "Epoch 423/500\n",
            "5/5 [==============================] - 0s 7ms/step - loss: 0.8100 - accuracy: 0.7000\n",
            "Epoch 424/500\n",
            "5/5 [==============================] - 0s 7ms/step - loss: 0.7863 - accuracy: 0.6800\n",
            "Epoch 425/500\n",
            "5/5 [==============================] - 0s 7ms/step - loss: 0.8004 - accuracy: 0.6800\n",
            "Epoch 426/500\n",
            "5/5 [==============================] - 0s 7ms/step - loss: 0.7853 - accuracy: 0.6800\n",
            "Epoch 427/500\n",
            "5/5 [==============================] - 0s 7ms/step - loss: 0.7791 - accuracy: 0.7000\n",
            "Epoch 428/500\n",
            "5/5 [==============================] - 0s 7ms/step - loss: 0.7962 - accuracy: 0.6600\n",
            "Epoch 429/500\n",
            "5/5 [==============================] - 0s 8ms/step - loss: 0.8034 - accuracy: 0.6600\n",
            "Epoch 430/500\n",
            "5/5 [==============================] - 0s 7ms/step - loss: 0.7924 - accuracy: 0.6800\n",
            "Epoch 431/500\n",
            "5/5 [==============================] - 0s 7ms/step - loss: 0.8533 - accuracy: 0.6600\n",
            "Epoch 432/500\n",
            "5/5 [==============================] - 0s 7ms/step - loss: 0.8195 - accuracy: 0.6600\n",
            "Epoch 433/500\n",
            "5/5 [==============================] - 0s 7ms/step - loss: 0.7958 - accuracy: 0.6600\n",
            "Epoch 434/500\n",
            "5/5 [==============================] - 0s 8ms/step - loss: 0.7941 - accuracy: 0.7000\n",
            "Epoch 435/500\n",
            "5/5 [==============================] - 0s 7ms/step - loss: 0.7931 - accuracy: 0.6800\n",
            "Epoch 436/500\n",
            "5/5 [==============================] - 0s 7ms/step - loss: 0.7727 - accuracy: 0.7000\n",
            "Epoch 437/500\n",
            "5/5 [==============================] - 0s 7ms/step - loss: 0.7762 - accuracy: 0.6800\n",
            "Epoch 438/500\n",
            "5/5 [==============================] - 0s 7ms/step - loss: 0.7898 - accuracy: 0.6400\n",
            "Epoch 439/500\n",
            "5/5 [==============================] - 0s 7ms/step - loss: 0.7817 - accuracy: 0.7000\n",
            "Epoch 440/500\n",
            "5/5 [==============================] - 0s 6ms/step - loss: 0.7797 - accuracy: 0.7000\n",
            "Epoch 441/500\n",
            "5/5 [==============================] - 0s 9ms/step - loss: 0.7760 - accuracy: 0.6800\n",
            "Epoch 442/500\n",
            "5/5 [==============================] - 0s 8ms/step - loss: 0.7827 - accuracy: 0.7000\n",
            "Epoch 443/500\n",
            "5/5 [==============================] - 0s 9ms/step - loss: 0.7716 - accuracy: 0.6800\n",
            "Epoch 444/500\n",
            "5/5 [==============================] - 0s 7ms/step - loss: 0.7794 - accuracy: 0.7000\n",
            "Epoch 445/500\n",
            "5/5 [==============================] - 0s 7ms/step - loss: 0.7772 - accuracy: 0.6600\n",
            "Epoch 446/500\n",
            "5/5 [==============================] - 0s 7ms/step - loss: 0.8082 - accuracy: 0.6600\n",
            "Epoch 447/500\n",
            "5/5 [==============================] - 0s 7ms/step - loss: 0.7876 - accuracy: 0.7000\n",
            "Epoch 448/500\n",
            "5/5 [==============================] - 0s 8ms/step - loss: 0.7664 - accuracy: 0.7000\n",
            "Epoch 449/500\n",
            "5/5 [==============================] - 0s 7ms/step - loss: 0.7661 - accuracy: 0.6800\n",
            "Epoch 450/500\n",
            "5/5 [==============================] - 0s 6ms/step - loss: 0.7622 - accuracy: 0.6800\n",
            "Epoch 451/500\n",
            "5/5 [==============================] - 0s 8ms/step - loss: 0.7680 - accuracy: 0.7000\n",
            "Epoch 452/500\n",
            "5/5 [==============================] - 0s 8ms/step - loss: 0.7822 - accuracy: 0.7000\n",
            "Epoch 453/500\n",
            "5/5 [==============================] - 0s 6ms/step - loss: 0.7721 - accuracy: 0.7000\n",
            "Epoch 454/500\n",
            "5/5 [==============================] - 0s 11ms/step - loss: 0.7624 - accuracy: 0.6800\n",
            "Epoch 455/500\n",
            "5/5 [==============================] - 0s 7ms/step - loss: 0.7661 - accuracy: 0.6800\n",
            "Epoch 456/500\n",
            "5/5 [==============================] - 0s 7ms/step - loss: 0.7676 - accuracy: 0.7000\n",
            "Epoch 457/500\n",
            "5/5 [==============================] - 0s 7ms/step - loss: 0.7634 - accuracy: 0.6800\n",
            "Epoch 458/500\n",
            "5/5 [==============================] - 0s 7ms/step - loss: 0.7614 - accuracy: 0.7000\n",
            "Epoch 459/500\n",
            "5/5 [==============================] - 0s 8ms/step - loss: 0.7671 - accuracy: 0.7000\n",
            "Epoch 460/500\n",
            "5/5 [==============================] - 0s 7ms/step - loss: 0.7663 - accuracy: 0.7000\n",
            "Epoch 461/500\n",
            "5/5 [==============================] - 0s 8ms/step - loss: 0.7602 - accuracy: 0.6800\n",
            "Epoch 462/500\n",
            "5/5 [==============================] - 0s 7ms/step - loss: 0.7622 - accuracy: 0.7000\n",
            "Epoch 463/500\n",
            "5/5 [==============================] - 0s 7ms/step - loss: 0.7562 - accuracy: 0.7000\n",
            "Epoch 464/500\n",
            "5/5 [==============================] - 0s 7ms/step - loss: 0.7557 - accuracy: 0.7000\n",
            "Epoch 465/500\n",
            "5/5 [==============================] - 0s 11ms/step - loss: 0.7503 - accuracy: 0.7000\n",
            "Epoch 466/500\n",
            "5/5 [==============================] - 0s 7ms/step - loss: 0.7592 - accuracy: 0.7000\n",
            "Epoch 467/500\n",
            "5/5 [==============================] - 0s 8ms/step - loss: 0.7620 - accuracy: 0.7000\n",
            "Epoch 468/500\n",
            "5/5 [==============================] - 0s 7ms/step - loss: 0.7580 - accuracy: 0.6800\n",
            "Epoch 469/500\n",
            "5/5 [==============================] - 0s 7ms/step - loss: 0.7602 - accuracy: 0.7000\n",
            "Epoch 470/500\n",
            "5/5 [==============================] - 0s 7ms/step - loss: 0.7698 - accuracy: 0.7200\n",
            "Epoch 471/500\n",
            "5/5 [==============================] - 0s 7ms/step - loss: 0.7435 - accuracy: 0.7200\n",
            "Epoch 472/500\n",
            "5/5 [==============================] - 0s 7ms/step - loss: 0.7574 - accuracy: 0.6800\n",
            "Epoch 473/500\n",
            "5/5 [==============================] - 0s 7ms/step - loss: 0.7538 - accuracy: 0.7000\n",
            "Epoch 474/500\n",
            "5/5 [==============================] - 0s 7ms/step - loss: 0.7502 - accuracy: 0.7000\n",
            "Epoch 475/500\n",
            "5/5 [==============================] - 0s 7ms/step - loss: 0.7767 - accuracy: 0.6800\n",
            "Epoch 476/500\n",
            "5/5 [==============================] - 0s 7ms/step - loss: 0.7569 - accuracy: 0.6800\n",
            "Epoch 477/500\n",
            "5/5 [==============================] - 0s 6ms/step - loss: 0.7564 - accuracy: 0.6800\n",
            "Epoch 478/500\n",
            "5/5 [==============================] - 0s 7ms/step - loss: 0.7458 - accuracy: 0.6800\n",
            "Epoch 479/500\n",
            "5/5 [==============================] - 0s 7ms/step - loss: 0.7435 - accuracy: 0.7200\n",
            "Epoch 480/500\n",
            "5/5 [==============================] - 0s 8ms/step - loss: 0.7531 - accuracy: 0.7000\n",
            "Epoch 481/500\n",
            "5/5 [==============================] - 0s 7ms/step - loss: 0.7572 - accuracy: 0.7000\n",
            "Epoch 482/500\n",
            "5/5 [==============================] - 0s 7ms/step - loss: 0.7408 - accuracy: 0.6800\n",
            "Epoch 483/500\n",
            "5/5 [==============================] - 0s 10ms/step - loss: 0.7372 - accuracy: 0.6800\n",
            "Epoch 484/500\n",
            "5/5 [==============================] - 0s 7ms/step - loss: 0.7545 - accuracy: 0.6800\n",
            "Epoch 485/500\n",
            "5/5 [==============================] - 0s 8ms/step - loss: 0.7469 - accuracy: 0.6800\n",
            "Epoch 486/500\n",
            "5/5 [==============================] - 0s 7ms/step - loss: 0.7500 - accuracy: 0.7000\n",
            "Epoch 487/500\n",
            "5/5 [==============================] - 0s 11ms/step - loss: 0.7332 - accuracy: 0.6800\n",
            "Epoch 488/500\n",
            "5/5 [==============================] - 0s 7ms/step - loss: 0.7421 - accuracy: 0.7000\n",
            "Epoch 489/500\n",
            "5/5 [==============================] - 0s 7ms/step - loss: 0.7751 - accuracy: 0.7000\n",
            "Epoch 490/500\n",
            "5/5 [==============================] - 0s 7ms/step - loss: 0.7686 - accuracy: 0.7000\n",
            "Epoch 491/500\n",
            "5/5 [==============================] - 0s 7ms/step - loss: 0.7351 - accuracy: 0.7200\n",
            "Epoch 492/500\n",
            "5/5 [==============================] - 0s 7ms/step - loss: 0.7637 - accuracy: 0.6600\n",
            "Epoch 493/500\n",
            "5/5 [==============================] - 0s 8ms/step - loss: 0.7505 - accuracy: 0.6600\n",
            "Epoch 494/500\n",
            "5/5 [==============================] - 0s 7ms/step - loss: 0.7417 - accuracy: 0.7200\n",
            "Epoch 495/500\n",
            "5/5 [==============================] - 0s 8ms/step - loss: 0.7312 - accuracy: 0.7200\n",
            "Epoch 496/500\n",
            "5/5 [==============================] - 0s 7ms/step - loss: 0.7331 - accuracy: 0.7200\n",
            "Epoch 497/500\n",
            "5/5 [==============================] - 0s 7ms/step - loss: 0.7397 - accuracy: 0.7000\n",
            "Epoch 498/500\n",
            "5/5 [==============================] - 0s 8ms/step - loss: 0.7340 - accuracy: 0.7000\n",
            "Epoch 499/500\n",
            "5/5 [==============================] - 0s 9ms/step - loss: 0.7411 - accuracy: 0.7000\n",
            "Epoch 500/500\n",
            "5/5 [==============================] - 0s 7ms/step - loss: 0.7359 - accuracy: 0.7200\n"
          ],
          "name": "stdout"
        }
      ]
    },
    {
      "cell_type": "code",
      "metadata": {
        "colab": {
          "base_uri": "https://localhost:8080/"
        },
        "id": "Pitwii9WiyDM",
        "outputId": "90249c49-33e4-4d00-bfe6-da6827a069b2"
      },
      "source": [
        "model.evaluate(X_train, y_train)"
      ],
      "execution_count": 41,
      "outputs": [
        {
          "output_type": "stream",
          "text": [
            "2/2 [==============================] - 0s 9ms/step - loss: 2.2991 - accuracy: 0.3400\n"
          ],
          "name": "stdout"
        },
        {
          "output_type": "execute_result",
          "data": {
            "text/plain": [
              "[2.2991223335266113, 0.3400000035762787]"
            ]
          },
          "metadata": {
            "tags": []
          },
          "execution_count": 41
        }
      ]
    },
    {
      "cell_type": "code",
      "metadata": {
        "colab": {
          "base_uri": "https://localhost:8080/"
        },
        "id": "aZfXwGi2rU_r",
        "outputId": "9e8bca4e-af6e-4c31-c060-6ce06dc01770"
      },
      "source": [
        "X_train[0:1]"
      ],
      "execution_count": 50,
      "outputs": [
        {
          "output_type": "execute_result",
          "data": {
            "text/plain": [
              "array([[[0.84615385],\n",
              "        [0.69230769],\n",
              "        [0.15384615]]])"
            ]
          },
          "metadata": {
            "tags": []
          },
          "execution_count": 50
        }
      ]
    },
    {
      "cell_type": "code",
      "metadata": {
        "colab": {
          "base_uri": "https://localhost:8080/"
        },
        "id": "d3e0hlZ-q1e0",
        "outputId": "aee07cca-fa36-4d35-c195-9067d309d1f1"
      },
      "source": [
        "model.predict(X_train[0:1])"
      ],
      "execution_count": 51,
      "outputs": [
        {
          "output_type": "execute_result",
          "data": {
            "text/plain": [
              "array([[0.06276721, 0.07326367, 0.06615437, 0.06334293, 0.06808366,\n",
              "        0.05769436, 0.05563723, 0.07428502, 0.10730358, 0.13512774,\n",
              "        0.08318092, 0.09876675, 0.05439264]], dtype=float32)"
            ]
          },
          "metadata": {
            "tags": []
          },
          "execution_count": 51
        }
      ]
    },
    {
      "cell_type": "code",
      "metadata": {
        "id": "c6jKStoQr2mT"
      },
      "source": [
        "first = 0.61538462\n",
        "second = 0.07692308\n",
        "third = 0.53846154"
      ],
      "execution_count": 46,
      "outputs": []
    },
    {
      "cell_type": "code",
      "metadata": {
        "id": "WCION1dWn7k6"
      },
      "source": [
        "pred = model.predict(X_train[0:1])"
      ],
      "execution_count": 56,
      "outputs": []
    },
    {
      "cell_type": "code",
      "metadata": {
        "colab": {
          "base_uri": "https://localhost:8080/"
        },
        "id": "xdZf0NSXsLhL",
        "outputId": "611489ca-cbbe-4027-d190-f07727bf8ba3"
      },
      "source": [
        "np.argmax(pred)"
      ],
      "execution_count": 57,
      "outputs": [
        {
          "output_type": "execute_result",
          "data": {
            "text/plain": [
              "10"
            ]
          },
          "metadata": {
            "tags": []
          },
          "execution_count": 57
        }
      ]
    },
    {
      "cell_type": "code",
      "metadata": {
        "id": "X13AEey5scnS"
      },
      "source": [
        "code2idx = {'c4':0, 'd4':1, 'e4':2, 'f4':3, 'g4':4, 'a4':5, 'b4':6,\n",
        "            'c8':7, 'd8':8, 'e8':9, 'f8':10, 'g8':11, 'a8':12, 'b8':13}"
      ],
      "execution_count": null,
      "outputs": []
    },
    {
      "cell_type": "code",
      "metadata": {
        "id": "aFUtWq-btcJj"
      },
      "source": [
        "note_seq = ['g8', 'e8', 'e4', 'f8', 'd8', 'd4', 'c8', 'd8', 'e8', 'f8', 'g8', 'g8', 'g4',\n",
        "       'g8', 'e8', 'e8', 'e8', 'f8', 'd8', 'd4', 'c8', 'e8', 'g8', 'g8', 'e8', 'e8', 'e4',\n",
        "       'd8', 'd8', 'd8', 'd8', 'd8', 'e8', 'f4', 'e8', 'e8', 'e8', 'e8', 'e8', 'f8', 'g4',\n",
        "       'g8', 'e8', 'e4', 'f8', 'd8', 'd4', 'c8', 'e8', 'g8', 'g8', 'e8', 'e8', 'e4']"
      ],
      "execution_count": null,
      "outputs": []
    }
  ]
}